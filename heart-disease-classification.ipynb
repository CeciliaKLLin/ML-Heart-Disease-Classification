{
 "cells": [
  {
   "cell_type": "markdown",
   "metadata": {},
   "source": [
    "# Predicting heart disease using machine learning\n",
    "\n",
    "This notebook will try to use various Python-based machine learning and data science libraries to build a machine learning model capable of predicting whether or not someone has heart disease based on their medical attributes."
   ]
  },
  {
   "cell_type": "markdown",
   "metadata": {},
   "source": [
    "We are going to take the following approach:\n",
    "1. Problem definition\n",
    "2. Data\n",
    "3. Evaluation\n",
    "4. Features\n",
    "5. Modelling\n",
    "6. Experimentation"
   ]
  },
  {
   "cell_type": "markdown",
   "metadata": {},
   "source": [
    "## 1. Problem Definition\n",
    "\n",
    "Given clinical parameters about patients, can we predict whether or not they have heart disease?\n",
    "\n",
    "## 2. Data\n",
    "\n",
    "The original data came from: https://archive.ics.uci.edu/ml/datasets/heart+Disease\n",
    "A version of it available on Kaggle: https://www.kaggle.com/ronitf/heart-disease-uci\n",
    "\n",
    "## 3. Evaluation\n",
    "\n",
    "Goal: 95% of accuracy of predicting whether a patient has heart disease.\n",
    "\n",
    "## 4. Features\n",
    "\n",
    "### Data Dictionary\n",
    "1. age - age in years\n",
    "2. sex - (1 = male; 0 = female)\n",
    "3. cp - chest pain type\n",
    "   * 0:Typical angina: chest pain related decrease blood supply to the heart\n",
    "   * 1:Atypical angina: chest pain not related to heart\n",
    "   * 2:Non-anginal pain: typically esophageal spasms (non heart related)\n",
    "   * 3:Asymptomatic: chest pain not showing signs of disease\n",
    "4. trestbps - resting blood pressure (in mm Hg on admission to the hospital)\n",
    "   * anything above 130-140 is typically cause for concern\n",
    "5. chol - serum cholestoral in mg/dl\n",
    "   * serum = LDL + HDL + .2 * triglycerides\n",
    "   * above 200 is cause for concern\n",
    "6. fbs - (fasting blood sugar > 120 mg/dl) (1 = true; 0 = false)\n",
    "   * '>126' mg/dL signals diabetes\n",
    "7. restecg - resting electrocardiographic results\n",
    "   * 0: Nothing to note\n",
    "   * 1: ST-T Wave abnormality\n",
    "      * can range from mild symptoms to severe problems\n",
    "      * signals non-normal heart beat\n",
    "   * 2: Possible or definite left ventricular hypertrophy\n",
    "      * Enlarged heart's main pumping chamber\n",
    "8. thalach - maximum heart rate achieved\n",
    "9. exang - exercise induced angina (1 = yes; 0 = no)\n",
    "   \n",
    "10. oldpeak - ST depression induced by exercise relative to rest\n",
    "    * looks at stress of heart during excercise\n",
    "    * unhealthy heart will stress more\n",
    "11. slope - the slope of the peak exercise ST segment\n",
    "    * 0: Upsloping: better heart rate with excercise (uncommon)\n",
    "    * 1: Flatsloping: minimal change (typical healthy heart)\n",
    "    * 2: Downslopins: signs of unhealthy heart\n",
    "12. ca - number of major vessels (0-3) colored by flourosopy\n",
    "    * colored vessel means the doctor can see the blood passing through\n",
    "    * the more blood movement the better (no clots)\n",
    "13. thal - thalium stress result\n",
    "    * 1,3: normal\n",
    "    * 6: fixed defect: used to be defect but ok now\n",
    "    * 7: reversable defect: no proper blood movement when excercising\n",
    "14. target - have disease or not (1=yes, 0=no) (= the predicted attribute)"
   ]
  },
  {
   "cell_type": "markdown",
   "metadata": {},
   "source": [
    "### Preparing the tools\n",
    "\n",
    "We are going to use Pandas, Matplotlib, NumPy for data analysis and manipulation."
   ]
  },
  {
   "cell_type": "code",
   "execution_count": 1,
   "metadata": {},
   "outputs": [],
   "source": [
    "import pandas as pd\n",
    "import numpy as np\n",
    "import seaborn as sns\n",
    "import matplotlib.pyplot as plt\n",
    "%matplotlib inline"
   ]
  },
  {
   "cell_type": "code",
   "execution_count": 2,
   "metadata": {},
   "outputs": [],
   "source": [
    "from sklearn.linear_model import LogisticRegression\n",
    "from sklearn.neighbors import KNeighborsClassifier\n",
    "from sklearn.ensemble import RandomForestClassifier\n",
    "\n",
    "from sklearn.model_selection import train_test_split, cross_val_score\n",
    "from sklearn.model_selection import RandomizedSearchCV, GridSearchCV\n",
    "from sklearn.metrics import precision_score, f1_score, recall_score\n",
    "from sklearn.metrics import confusion_matrix, classification_report\n",
    "from sklearn.metrics import plot_roc_curve, plot_confusion_matrix\n",
    "\n",
    "from sklearn.impute import SimpleImputer\n",
    "from sklearn.compose import ColumnTransformer\n",
    "from sklearn.preprocessing import OneHotEncoder\n",
    "from sklearn.pipeline import Pipeline\n",
    "\n"
   ]
  },
  {
   "cell_type": "markdown",
   "metadata": {},
   "source": [
    "### Load Data"
   ]
  },
  {
   "cell_type": "code",
   "execution_count": 3,
   "metadata": {},
   "outputs": [
    {
     "data": {
      "text/html": [
       "<div>\n",
       "<style scoped>\n",
       "    .dataframe tbody tr th:only-of-type {\n",
       "        vertical-align: middle;\n",
       "    }\n",
       "\n",
       "    .dataframe tbody tr th {\n",
       "        vertical-align: top;\n",
       "    }\n",
       "\n",
       "    .dataframe thead th {\n",
       "        text-align: right;\n",
       "    }\n",
       "</style>\n",
       "<table border=\"1\" class=\"dataframe\">\n",
       "  <thead>\n",
       "    <tr style=\"text-align: right;\">\n",
       "      <th></th>\n",
       "      <th>age</th>\n",
       "      <th>sex</th>\n",
       "      <th>cp</th>\n",
       "      <th>trestbps</th>\n",
       "      <th>chol</th>\n",
       "      <th>fbs</th>\n",
       "      <th>restecg</th>\n",
       "      <th>thalach</th>\n",
       "      <th>exang</th>\n",
       "      <th>oldpeak</th>\n",
       "      <th>slope</th>\n",
       "      <th>ca</th>\n",
       "      <th>thal</th>\n",
       "      <th>target</th>\n",
       "    </tr>\n",
       "  </thead>\n",
       "  <tbody>\n",
       "    <tr>\n",
       "      <th>0</th>\n",
       "      <td>63</td>\n",
       "      <td>1</td>\n",
       "      <td>3</td>\n",
       "      <td>145</td>\n",
       "      <td>233</td>\n",
       "      <td>1</td>\n",
       "      <td>0</td>\n",
       "      <td>150</td>\n",
       "      <td>0</td>\n",
       "      <td>2.3</td>\n",
       "      <td>0</td>\n",
       "      <td>0</td>\n",
       "      <td>1</td>\n",
       "      <td>1</td>\n",
       "    </tr>\n",
       "    <tr>\n",
       "      <th>1</th>\n",
       "      <td>37</td>\n",
       "      <td>1</td>\n",
       "      <td>2</td>\n",
       "      <td>130</td>\n",
       "      <td>250</td>\n",
       "      <td>0</td>\n",
       "      <td>1</td>\n",
       "      <td>187</td>\n",
       "      <td>0</td>\n",
       "      <td>3.5</td>\n",
       "      <td>0</td>\n",
       "      <td>0</td>\n",
       "      <td>2</td>\n",
       "      <td>1</td>\n",
       "    </tr>\n",
       "    <tr>\n",
       "      <th>2</th>\n",
       "      <td>41</td>\n",
       "      <td>0</td>\n",
       "      <td>1</td>\n",
       "      <td>130</td>\n",
       "      <td>204</td>\n",
       "      <td>0</td>\n",
       "      <td>0</td>\n",
       "      <td>172</td>\n",
       "      <td>0</td>\n",
       "      <td>1.4</td>\n",
       "      <td>2</td>\n",
       "      <td>0</td>\n",
       "      <td>2</td>\n",
       "      <td>1</td>\n",
       "    </tr>\n",
       "    <tr>\n",
       "      <th>3</th>\n",
       "      <td>56</td>\n",
       "      <td>1</td>\n",
       "      <td>1</td>\n",
       "      <td>120</td>\n",
       "      <td>236</td>\n",
       "      <td>0</td>\n",
       "      <td>1</td>\n",
       "      <td>178</td>\n",
       "      <td>0</td>\n",
       "      <td>0.8</td>\n",
       "      <td>2</td>\n",
       "      <td>0</td>\n",
       "      <td>2</td>\n",
       "      <td>1</td>\n",
       "    </tr>\n",
       "    <tr>\n",
       "      <th>4</th>\n",
       "      <td>57</td>\n",
       "      <td>0</td>\n",
       "      <td>0</td>\n",
       "      <td>120</td>\n",
       "      <td>354</td>\n",
       "      <td>0</td>\n",
       "      <td>1</td>\n",
       "      <td>163</td>\n",
       "      <td>1</td>\n",
       "      <td>0.6</td>\n",
       "      <td>2</td>\n",
       "      <td>0</td>\n",
       "      <td>2</td>\n",
       "      <td>1</td>\n",
       "    </tr>\n",
       "    <tr>\n",
       "      <th>...</th>\n",
       "      <td>...</td>\n",
       "      <td>...</td>\n",
       "      <td>...</td>\n",
       "      <td>...</td>\n",
       "      <td>...</td>\n",
       "      <td>...</td>\n",
       "      <td>...</td>\n",
       "      <td>...</td>\n",
       "      <td>...</td>\n",
       "      <td>...</td>\n",
       "      <td>...</td>\n",
       "      <td>...</td>\n",
       "      <td>...</td>\n",
       "      <td>...</td>\n",
       "    </tr>\n",
       "    <tr>\n",
       "      <th>298</th>\n",
       "      <td>57</td>\n",
       "      <td>0</td>\n",
       "      <td>0</td>\n",
       "      <td>140</td>\n",
       "      <td>241</td>\n",
       "      <td>0</td>\n",
       "      <td>1</td>\n",
       "      <td>123</td>\n",
       "      <td>1</td>\n",
       "      <td>0.2</td>\n",
       "      <td>1</td>\n",
       "      <td>0</td>\n",
       "      <td>3</td>\n",
       "      <td>0</td>\n",
       "    </tr>\n",
       "    <tr>\n",
       "      <th>299</th>\n",
       "      <td>45</td>\n",
       "      <td>1</td>\n",
       "      <td>3</td>\n",
       "      <td>110</td>\n",
       "      <td>264</td>\n",
       "      <td>0</td>\n",
       "      <td>1</td>\n",
       "      <td>132</td>\n",
       "      <td>0</td>\n",
       "      <td>1.2</td>\n",
       "      <td>1</td>\n",
       "      <td>0</td>\n",
       "      <td>3</td>\n",
       "      <td>0</td>\n",
       "    </tr>\n",
       "    <tr>\n",
       "      <th>300</th>\n",
       "      <td>68</td>\n",
       "      <td>1</td>\n",
       "      <td>0</td>\n",
       "      <td>144</td>\n",
       "      <td>193</td>\n",
       "      <td>1</td>\n",
       "      <td>1</td>\n",
       "      <td>141</td>\n",
       "      <td>0</td>\n",
       "      <td>3.4</td>\n",
       "      <td>1</td>\n",
       "      <td>2</td>\n",
       "      <td>3</td>\n",
       "      <td>0</td>\n",
       "    </tr>\n",
       "    <tr>\n",
       "      <th>301</th>\n",
       "      <td>57</td>\n",
       "      <td>1</td>\n",
       "      <td>0</td>\n",
       "      <td>130</td>\n",
       "      <td>131</td>\n",
       "      <td>0</td>\n",
       "      <td>1</td>\n",
       "      <td>115</td>\n",
       "      <td>1</td>\n",
       "      <td>1.2</td>\n",
       "      <td>1</td>\n",
       "      <td>1</td>\n",
       "      <td>3</td>\n",
       "      <td>0</td>\n",
       "    </tr>\n",
       "    <tr>\n",
       "      <th>302</th>\n",
       "      <td>57</td>\n",
       "      <td>0</td>\n",
       "      <td>1</td>\n",
       "      <td>130</td>\n",
       "      <td>236</td>\n",
       "      <td>0</td>\n",
       "      <td>0</td>\n",
       "      <td>174</td>\n",
       "      <td>0</td>\n",
       "      <td>0.0</td>\n",
       "      <td>1</td>\n",
       "      <td>1</td>\n",
       "      <td>2</td>\n",
       "      <td>0</td>\n",
       "    </tr>\n",
       "  </tbody>\n",
       "</table>\n",
       "<p>303 rows × 14 columns</p>\n",
       "</div>"
      ],
      "text/plain": [
       "     age  sex  cp  trestbps  chol  fbs  restecg  thalach  exang  oldpeak  \\\n",
       "0     63    1   3       145   233    1        0      150      0      2.3   \n",
       "1     37    1   2       130   250    0        1      187      0      3.5   \n",
       "2     41    0   1       130   204    0        0      172      0      1.4   \n",
       "3     56    1   1       120   236    0        1      178      0      0.8   \n",
       "4     57    0   0       120   354    0        1      163      1      0.6   \n",
       "..   ...  ...  ..       ...   ...  ...      ...      ...    ...      ...   \n",
       "298   57    0   0       140   241    0        1      123      1      0.2   \n",
       "299   45    1   3       110   264    0        1      132      0      1.2   \n",
       "300   68    1   0       144   193    1        1      141      0      3.4   \n",
       "301   57    1   0       130   131    0        1      115      1      1.2   \n",
       "302   57    0   1       130   236    0        0      174      0      0.0   \n",
       "\n",
       "     slope  ca  thal  target  \n",
       "0        0   0     1       1  \n",
       "1        0   0     2       1  \n",
       "2        2   0     2       1  \n",
       "3        2   0     2       1  \n",
       "4        2   0     2       1  \n",
       "..     ...  ..   ...     ...  \n",
       "298      1   0     3       0  \n",
       "299      1   0     3       0  \n",
       "300      1   2     3       0  \n",
       "301      1   1     3       0  \n",
       "302      1   1     2       0  \n",
       "\n",
       "[303 rows x 14 columns]"
      ]
     },
     "execution_count": 3,
     "metadata": {},
     "output_type": "execute_result"
    }
   ],
   "source": [
    "df = pd.read_csv('heart-disease.csv')\n",
    "df"
   ]
  },
  {
   "cell_type": "markdown",
   "metadata": {},
   "source": [
    "### data exploration (Exploratory data analysis or EDA)\n",
    "\n",
    "Since EDA has no real set methodolgy, the following is a short check list you might want to walk through:\n",
    "1. What question(s) are you trying to solve (or prove wrong)?\n",
    "2. What kind of data do you have and how do you treat different types?\n",
    "3. What’s missing from the data and how do you deal with it?\n",
    "4. Where are the outliers and why should you care about them?\n",
    "5. How can you add, change or remove features to get more out of your data?"
   ]
  },
  {
   "cell_type": "code",
   "execution_count": 4,
   "metadata": {},
   "outputs": [
    {
     "data": {
      "text/html": [
       "<div>\n",
       "<style scoped>\n",
       "    .dataframe tbody tr th:only-of-type {\n",
       "        vertical-align: middle;\n",
       "    }\n",
       "\n",
       "    .dataframe tbody tr th {\n",
       "        vertical-align: top;\n",
       "    }\n",
       "\n",
       "    .dataframe thead th {\n",
       "        text-align: right;\n",
       "    }\n",
       "</style>\n",
       "<table border=\"1\" class=\"dataframe\">\n",
       "  <thead>\n",
       "    <tr style=\"text-align: right;\">\n",
       "      <th></th>\n",
       "      <th>age</th>\n",
       "      <th>sex</th>\n",
       "      <th>cp</th>\n",
       "      <th>trestbps</th>\n",
       "      <th>chol</th>\n",
       "      <th>fbs</th>\n",
       "      <th>restecg</th>\n",
       "      <th>thalach</th>\n",
       "      <th>exang</th>\n",
       "      <th>oldpeak</th>\n",
       "      <th>slope</th>\n",
       "      <th>ca</th>\n",
       "      <th>thal</th>\n",
       "      <th>target</th>\n",
       "    </tr>\n",
       "  </thead>\n",
       "  <tbody>\n",
       "    <tr>\n",
       "      <th>0</th>\n",
       "      <td>63</td>\n",
       "      <td>1</td>\n",
       "      <td>3</td>\n",
       "      <td>145</td>\n",
       "      <td>233</td>\n",
       "      <td>1</td>\n",
       "      <td>0</td>\n",
       "      <td>150</td>\n",
       "      <td>0</td>\n",
       "      <td>2.3</td>\n",
       "      <td>0</td>\n",
       "      <td>0</td>\n",
       "      <td>1</td>\n",
       "      <td>1</td>\n",
       "    </tr>\n",
       "    <tr>\n",
       "      <th>1</th>\n",
       "      <td>37</td>\n",
       "      <td>1</td>\n",
       "      <td>2</td>\n",
       "      <td>130</td>\n",
       "      <td>250</td>\n",
       "      <td>0</td>\n",
       "      <td>1</td>\n",
       "      <td>187</td>\n",
       "      <td>0</td>\n",
       "      <td>3.5</td>\n",
       "      <td>0</td>\n",
       "      <td>0</td>\n",
       "      <td>2</td>\n",
       "      <td>1</td>\n",
       "    </tr>\n",
       "    <tr>\n",
       "      <th>2</th>\n",
       "      <td>41</td>\n",
       "      <td>0</td>\n",
       "      <td>1</td>\n",
       "      <td>130</td>\n",
       "      <td>204</td>\n",
       "      <td>0</td>\n",
       "      <td>0</td>\n",
       "      <td>172</td>\n",
       "      <td>0</td>\n",
       "      <td>1.4</td>\n",
       "      <td>2</td>\n",
       "      <td>0</td>\n",
       "      <td>2</td>\n",
       "      <td>1</td>\n",
       "    </tr>\n",
       "    <tr>\n",
       "      <th>3</th>\n",
       "      <td>56</td>\n",
       "      <td>1</td>\n",
       "      <td>1</td>\n",
       "      <td>120</td>\n",
       "      <td>236</td>\n",
       "      <td>0</td>\n",
       "      <td>1</td>\n",
       "      <td>178</td>\n",
       "      <td>0</td>\n",
       "      <td>0.8</td>\n",
       "      <td>2</td>\n",
       "      <td>0</td>\n",
       "      <td>2</td>\n",
       "      <td>1</td>\n",
       "    </tr>\n",
       "    <tr>\n",
       "      <th>4</th>\n",
       "      <td>57</td>\n",
       "      <td>0</td>\n",
       "      <td>0</td>\n",
       "      <td>120</td>\n",
       "      <td>354</td>\n",
       "      <td>0</td>\n",
       "      <td>1</td>\n",
       "      <td>163</td>\n",
       "      <td>1</td>\n",
       "      <td>0.6</td>\n",
       "      <td>2</td>\n",
       "      <td>0</td>\n",
       "      <td>2</td>\n",
       "      <td>1</td>\n",
       "    </tr>\n",
       "  </tbody>\n",
       "</table>\n",
       "</div>"
      ],
      "text/plain": [
       "   age  sex  cp  trestbps  chol  fbs  restecg  thalach  exang  oldpeak  slope  \\\n",
       "0   63    1   3       145   233    1        0      150      0      2.3      0   \n",
       "1   37    1   2       130   250    0        1      187      0      3.5      0   \n",
       "2   41    0   1       130   204    0        0      172      0      1.4      2   \n",
       "3   56    1   1       120   236    0        1      178      0      0.8      2   \n",
       "4   57    0   0       120   354    0        1      163      1      0.6      2   \n",
       "\n",
       "   ca  thal  target  \n",
       "0   0     1       1  \n",
       "1   0     2       1  \n",
       "2   0     2       1  \n",
       "3   0     2       1  \n",
       "4   0     2       1  "
      ]
     },
     "execution_count": 4,
     "metadata": {},
     "output_type": "execute_result"
    }
   ],
   "source": [
    "df.head()"
   ]
  },
  {
   "cell_type": "code",
   "execution_count": 5,
   "metadata": {},
   "outputs": [
    {
     "data": {
      "text/html": [
       "<div>\n",
       "<style scoped>\n",
       "    .dataframe tbody tr th:only-of-type {\n",
       "        vertical-align: middle;\n",
       "    }\n",
       "\n",
       "    .dataframe tbody tr th {\n",
       "        vertical-align: top;\n",
       "    }\n",
       "\n",
       "    .dataframe thead th {\n",
       "        text-align: right;\n",
       "    }\n",
       "</style>\n",
       "<table border=\"1\" class=\"dataframe\">\n",
       "  <thead>\n",
       "    <tr style=\"text-align: right;\">\n",
       "      <th></th>\n",
       "      <th>age</th>\n",
       "      <th>sex</th>\n",
       "      <th>cp</th>\n",
       "      <th>trestbps</th>\n",
       "      <th>chol</th>\n",
       "      <th>fbs</th>\n",
       "      <th>restecg</th>\n",
       "      <th>thalach</th>\n",
       "      <th>exang</th>\n",
       "      <th>oldpeak</th>\n",
       "      <th>slope</th>\n",
       "      <th>ca</th>\n",
       "      <th>thal</th>\n",
       "      <th>target</th>\n",
       "    </tr>\n",
       "  </thead>\n",
       "  <tbody>\n",
       "    <tr>\n",
       "      <th>298</th>\n",
       "      <td>57</td>\n",
       "      <td>0</td>\n",
       "      <td>0</td>\n",
       "      <td>140</td>\n",
       "      <td>241</td>\n",
       "      <td>0</td>\n",
       "      <td>1</td>\n",
       "      <td>123</td>\n",
       "      <td>1</td>\n",
       "      <td>0.2</td>\n",
       "      <td>1</td>\n",
       "      <td>0</td>\n",
       "      <td>3</td>\n",
       "      <td>0</td>\n",
       "    </tr>\n",
       "    <tr>\n",
       "      <th>299</th>\n",
       "      <td>45</td>\n",
       "      <td>1</td>\n",
       "      <td>3</td>\n",
       "      <td>110</td>\n",
       "      <td>264</td>\n",
       "      <td>0</td>\n",
       "      <td>1</td>\n",
       "      <td>132</td>\n",
       "      <td>0</td>\n",
       "      <td>1.2</td>\n",
       "      <td>1</td>\n",
       "      <td>0</td>\n",
       "      <td>3</td>\n",
       "      <td>0</td>\n",
       "    </tr>\n",
       "    <tr>\n",
       "      <th>300</th>\n",
       "      <td>68</td>\n",
       "      <td>1</td>\n",
       "      <td>0</td>\n",
       "      <td>144</td>\n",
       "      <td>193</td>\n",
       "      <td>1</td>\n",
       "      <td>1</td>\n",
       "      <td>141</td>\n",
       "      <td>0</td>\n",
       "      <td>3.4</td>\n",
       "      <td>1</td>\n",
       "      <td>2</td>\n",
       "      <td>3</td>\n",
       "      <td>0</td>\n",
       "    </tr>\n",
       "    <tr>\n",
       "      <th>301</th>\n",
       "      <td>57</td>\n",
       "      <td>1</td>\n",
       "      <td>0</td>\n",
       "      <td>130</td>\n",
       "      <td>131</td>\n",
       "      <td>0</td>\n",
       "      <td>1</td>\n",
       "      <td>115</td>\n",
       "      <td>1</td>\n",
       "      <td>1.2</td>\n",
       "      <td>1</td>\n",
       "      <td>1</td>\n",
       "      <td>3</td>\n",
       "      <td>0</td>\n",
       "    </tr>\n",
       "    <tr>\n",
       "      <th>302</th>\n",
       "      <td>57</td>\n",
       "      <td>0</td>\n",
       "      <td>1</td>\n",
       "      <td>130</td>\n",
       "      <td>236</td>\n",
       "      <td>0</td>\n",
       "      <td>0</td>\n",
       "      <td>174</td>\n",
       "      <td>0</td>\n",
       "      <td>0.0</td>\n",
       "      <td>1</td>\n",
       "      <td>1</td>\n",
       "      <td>2</td>\n",
       "      <td>0</td>\n",
       "    </tr>\n",
       "  </tbody>\n",
       "</table>\n",
       "</div>"
      ],
      "text/plain": [
       "     age  sex  cp  trestbps  chol  fbs  restecg  thalach  exang  oldpeak  \\\n",
       "298   57    0   0       140   241    0        1      123      1      0.2   \n",
       "299   45    1   3       110   264    0        1      132      0      1.2   \n",
       "300   68    1   0       144   193    1        1      141      0      3.4   \n",
       "301   57    1   0       130   131    0        1      115      1      1.2   \n",
       "302   57    0   1       130   236    0        0      174      0      0.0   \n",
       "\n",
       "     slope  ca  thal  target  \n",
       "298      1   0     3       0  \n",
       "299      1   0     3       0  \n",
       "300      1   2     3       0  \n",
       "301      1   1     3       0  \n",
       "302      1   1     2       0  "
      ]
     },
     "execution_count": 5,
     "metadata": {},
     "output_type": "execute_result"
    }
   ],
   "source": [
    "df.tail()"
   ]
  },
  {
   "cell_type": "code",
   "execution_count": 6,
   "metadata": {},
   "outputs": [
    {
     "data": {
      "text/plain": [
       "1    165\n",
       "0    138\n",
       "Name: target, dtype: int64"
      ]
     },
     "execution_count": 6,
     "metadata": {},
     "output_type": "execute_result"
    }
   ],
   "source": [
    "df.target.value_counts()"
   ]
  },
  {
   "cell_type": "code",
   "execution_count": 7,
   "metadata": {},
   "outputs": [
    {
     "data": {
      "image/png": "[encoded data removed]",
      "text/plain": [
       "<Figure size 432x288 with 1 Axes>"
      ]
     },
     "metadata": {
      "needs_background": "light"
     },
     "output_type": "display_data"
    }
   ],
   "source": [
    "df.target.value_counts().plot(kind = 'bar', color = ['salmon', 'lightblue']);"
   ]
  },
  {
   "cell_type": "code",
   "execution_count": 8,
   "metadata": {},
   "outputs": [
    {
     "name": "stdout",
     "output_type": "stream",
     "text": [
      "<class 'pandas.core.frame.DataFrame'>\n",
      "RangeIndex: 303 entries, 0 to 302\n",
      "Data columns (total 14 columns):\n",
      " #   Column    Non-Null Count  Dtype  \n",
      "---  ------    --------------  -----  \n",
      " 0   age       303 non-null    int64  \n",
      " 1   sex       303 non-null    int64  \n",
      " 2   cp        303 non-null    int64  \n",
      " 3   trestbps  303 non-null    int64  \n",
      " 4   chol      303 non-null    int64  \n",
      " 5   fbs       303 non-null    int64  \n",
      " 6   restecg   303 non-null    int64  \n",
      " 7   thalach   303 non-null    int64  \n",
      " 8   exang     303 non-null    int64  \n",
      " 9   oldpeak   303 non-null    float64\n",
      " 10  slope     303 non-null    int64  \n",
      " 11  ca        303 non-null    int64  \n",
      " 12  thal      303 non-null    int64  \n",
      " 13  target    303 non-null    int64  \n",
      "dtypes: float64(1), int64(13)\n",
      "memory usage: 33.3 KB\n"
     ]
    }
   ],
   "source": [
    "df.info()"
   ]
  },
  {
   "cell_type": "code",
   "execution_count": 9,
   "metadata": {},
   "outputs": [
    {
     "data": {
      "text/plain": [
       "age         0\n",
       "sex         0\n",
       "cp          0\n",
       "trestbps    0\n",
       "chol        0\n",
       "fbs         0\n",
       "restecg     0\n",
       "thalach     0\n",
       "exang       0\n",
       "oldpeak     0\n",
       "slope       0\n",
       "ca          0\n",
       "thal        0\n",
       "target      0\n",
       "dtype: int64"
      ]
     },
     "execution_count": 9,
     "metadata": {},
     "output_type": "execute_result"
    }
   ],
   "source": [
    "df.isna().sum()"
   ]
  },
  {
   "cell_type": "code",
   "execution_count": 10,
   "metadata": {},
   "outputs": [
    {
     "data": {
      "text/plain": [
       "1    207\n",
       "0     96\n",
       "Name: sex, dtype: int64"
      ]
     },
     "execution_count": 10,
     "metadata": {},
     "output_type": "execute_result"
    }
   ],
   "source": [
    "# heart disease frequency according to Sex\n",
    "df.sex.value_counts()"
   ]
  },
  {
   "cell_type": "code",
   "execution_count": 11,
   "metadata": {},
   "outputs": [
    {
     "data": {
      "text/html": [
       "<div>\n",
       "<style scoped>\n",
       "    .dataframe tbody tr th:only-of-type {\n",
       "        vertical-align: middle;\n",
       "    }\n",
       "\n",
       "    .dataframe tbody tr th {\n",
       "        vertical-align: top;\n",
       "    }\n",
       "\n",
       "    .dataframe thead th {\n",
       "        text-align: right;\n",
       "    }\n",
       "</style>\n",
       "<table border=\"1\" class=\"dataframe\">\n",
       "  <thead>\n",
       "    <tr style=\"text-align: right;\">\n",
       "      <th>sex</th>\n",
       "      <th>0</th>\n",
       "      <th>1</th>\n",
       "    </tr>\n",
       "    <tr>\n",
       "      <th>target</th>\n",
       "      <th></th>\n",
       "      <th></th>\n",
       "    </tr>\n",
       "  </thead>\n",
       "  <tbody>\n",
       "    <tr>\n",
       "      <th>0</th>\n",
       "      <td>24</td>\n",
       "      <td>114</td>\n",
       "    </tr>\n",
       "    <tr>\n",
       "      <th>1</th>\n",
       "      <td>72</td>\n",
       "      <td>93</td>\n",
       "    </tr>\n",
       "  </tbody>\n",
       "</table>\n",
       "</div>"
      ],
      "text/plain": [
       "sex      0    1\n",
       "target         \n",
       "0       24  114\n",
       "1       72   93"
      ]
     },
     "execution_count": 11,
     "metadata": {},
     "output_type": "execute_result"
    }
   ],
   "source": [
    "#compare target column with sex column\n",
    "pd.crosstab(df.target, df.sex)"
   ]
  },
  {
   "cell_type": "code",
   "execution_count": 12,
   "metadata": {},
   "outputs": [
    {
     "data": {
      "image/png": "[encoded data removed]",
      "text/plain": [
       "<Figure size 720x432 with 1 Axes>"
      ]
     },
     "metadata": {
      "needs_background": "light"
     },
     "output_type": "display_data"
    }
   ],
   "source": [
    "pd.crosstab(df.target, df.sex).plot(kind='bar', figsize =(10,6),  color = ['salmon', 'lightblue']);\n",
    "plt.title('Heart Disease Frequency for Sex')\n",
    "plt.xlabel('0 = No disease, 1 = Disease')\n",
    "plt.ylabel('Amount')\n",
    "plt.legend(['Female', 'Male'])\n",
    "plt.xticks(rotation = 0);"
   ]
  },
  {
   "cell_type": "code",
   "execution_count": 13,
   "metadata": {},
   "outputs": [
    {
     "data": {
      "text/plain": [
       "162    11\n",
       "160     9\n",
       "163     9\n",
       "173     8\n",
       "152     8\n",
       "       ..\n",
       "129     1\n",
       "128     1\n",
       "127     1\n",
       "124     1\n",
       "71      1\n",
       "Name: thalach, Length: 91, dtype: int64"
      ]
     },
     "execution_count": 13,
     "metadata": {},
     "output_type": "execute_result"
    }
   ],
   "source": [
    "df.thalach.value_counts()"
   ]
  },
  {
   "cell_type": "code",
   "execution_count": 14,
   "metadata": {},
   "outputs": [
    {
     "data": {
      "text/html": [
       "<div>\n",
       "<style scoped>\n",
       "    .dataframe tbody tr th:only-of-type {\n",
       "        vertical-align: middle;\n",
       "    }\n",
       "\n",
       "    .dataframe tbody tr th {\n",
       "        vertical-align: top;\n",
       "    }\n",
       "\n",
       "    .dataframe thead th {\n",
       "        text-align: right;\n",
       "    }\n",
       "</style>\n",
       "<table border=\"1\" class=\"dataframe\">\n",
       "  <thead>\n",
       "    <tr style=\"text-align: right;\">\n",
       "      <th>sex</th>\n",
       "      <th>0</th>\n",
       "      <th>1</th>\n",
       "    </tr>\n",
       "    <tr>\n",
       "      <th>thalach</th>\n",
       "      <th></th>\n",
       "      <th></th>\n",
       "    </tr>\n",
       "  </thead>\n",
       "  <tbody>\n",
       "    <tr>\n",
       "      <th>71</th>\n",
       "      <td>0</td>\n",
       "      <td>1</td>\n",
       "    </tr>\n",
       "    <tr>\n",
       "      <th>88</th>\n",
       "      <td>0</td>\n",
       "      <td>1</td>\n",
       "    </tr>\n",
       "    <tr>\n",
       "      <th>90</th>\n",
       "      <td>0</td>\n",
       "      <td>1</td>\n",
       "    </tr>\n",
       "    <tr>\n",
       "      <th>95</th>\n",
       "      <td>0</td>\n",
       "      <td>1</td>\n",
       "    </tr>\n",
       "    <tr>\n",
       "      <th>96</th>\n",
       "      <td>1</td>\n",
       "      <td>1</td>\n",
       "    </tr>\n",
       "    <tr>\n",
       "      <th>...</th>\n",
       "      <td>...</td>\n",
       "      <td>...</td>\n",
       "    </tr>\n",
       "    <tr>\n",
       "      <th>190</th>\n",
       "      <td>0</td>\n",
       "      <td>1</td>\n",
       "    </tr>\n",
       "    <tr>\n",
       "      <th>192</th>\n",
       "      <td>1</td>\n",
       "      <td>0</td>\n",
       "    </tr>\n",
       "    <tr>\n",
       "      <th>194</th>\n",
       "      <td>0</td>\n",
       "      <td>1</td>\n",
       "    </tr>\n",
       "    <tr>\n",
       "      <th>195</th>\n",
       "      <td>0</td>\n",
       "      <td>1</td>\n",
       "    </tr>\n",
       "    <tr>\n",
       "      <th>202</th>\n",
       "      <td>0</td>\n",
       "      <td>1</td>\n",
       "    </tr>\n",
       "  </tbody>\n",
       "</table>\n",
       "<p>91 rows × 2 columns</p>\n",
       "</div>"
      ],
      "text/plain": [
       "sex      0  1\n",
       "thalach      \n",
       "71       0  1\n",
       "88       0  1\n",
       "90       0  1\n",
       "95       0  1\n",
       "96       1  1\n",
       "...     .. ..\n",
       "190      0  1\n",
       "192      1  0\n",
       "194      0  1\n",
       "195      0  1\n",
       "202      0  1\n",
       "\n",
       "[91 rows x 2 columns]"
      ]
     },
     "execution_count": 14,
     "metadata": {},
     "output_type": "execute_result"
    }
   ],
   "source": [
    "#age vs Max Heart Rate for Heart Disease\n",
    "pd.crosstab(df.thalach, df.sex)"
   ]
  },
  {
   "cell_type": "code",
   "execution_count": 15,
   "metadata": {},
   "outputs": [
    {
     "data": {
      "text/plain": [
       "<matplotlib.legend.Legend at 0x117c0ffa0>"
      ]
     },
     "execution_count": 15,
     "metadata": {},
     "output_type": "execute_result"
    },
    {
     "data": {
      "image/png": "[encoded data removed]",
      "text/plain": [
       "<Figure size 720x432 with 1 Axes>"
      ]
     },
     "metadata": {
      "needs_background": "light"
     },
     "output_type": "display_data"
    }
   ],
   "source": [
    "plt.figure(figsize = (10,6))\n",
    "\n",
    "#Scatter with positive examples\n",
    "plt.scatter(df.age[df['target']==1],\n",
    "            df.thalach[df['target']==1],\n",
    "           color = 'salmon')\n",
    "\n",
    "#Scatter with negative examples\n",
    "plt.scatter(df.age[df['target']==0],\n",
    "            df.thalach[df['target']==0],\n",
    "           color = 'blue')\n",
    "\n",
    "plt.title('Heart Disease in function of Age and Max. Heart Rate')\n",
    "plt.xlabel('Age')\n",
    "plt.ylabel('Max. Heart Rate');\n",
    "plt.legend(['Disease', 'No Disease'])\n"
   ]
  },
  {
   "cell_type": "code",
   "execution_count": 16,
   "metadata": {},
   "outputs": [
    {
     "data": {
      "image/png": "[encoded data removed]",
      "text/plain": [
       "<Figure size 432x288 with 1 Axes>"
      ]
     },
     "metadata": {
      "needs_background": "light"
     },
     "output_type": "display_data"
    }
   ],
   "source": [
    "# age distrubution of heart disease\n",
    "\n",
    "df.age.plot(kind = 'hist')\n",
    "plt.title('Age distrubution of heart disease')\n",
    "plt.xlabel('Age');"
   ]
  },
  {
   "cell_type": "code",
   "execution_count": 17,
   "metadata": {},
   "outputs": [
    {
     "data": {
      "image/png": "[encoded data removed]",
      "text/plain": [
       "<Figure size 432x288 with 1 Axes>"
      ]
     },
     "metadata": {
      "needs_background": "light"
     },
     "output_type": "display_data"
    }
   ],
   "source": [
    "plt.hist(df.age[df['target']==1],\n",
    "           color = 'blue', );"
   ]
  },
  {
   "cell_type": "markdown",
   "metadata": {},
   "source": [
    "### Heart Disease Frequency per Chest Pain Type\n",
    "3. cp - chest pain type\n",
    "   * 0:Typical angina: chest pain related decrease blood supply to the heart\n",
    "   * 1:Atypical angina: chest pain not related to heart\n",
    "   * 2:Non-anginal pain: typically esophageal spasms (non heart related)\n",
    "   * 3:Asymptomatic: chest pain not showing signs of disease"
   ]
  },
  {
   "cell_type": "code",
   "execution_count": 18,
   "metadata": {},
   "outputs": [
    {
     "data": {
      "text/html": [
       "<div>\n",
       "<style scoped>\n",
       "    .dataframe tbody tr th:only-of-type {\n",
       "        vertical-align: middle;\n",
       "    }\n",
       "\n",
       "    .dataframe tbody tr th {\n",
       "        vertical-align: top;\n",
       "    }\n",
       "\n",
       "    .dataframe thead th {\n",
       "        text-align: right;\n",
       "    }\n",
       "</style>\n",
       "<table border=\"1\" class=\"dataframe\">\n",
       "  <thead>\n",
       "    <tr style=\"text-align: right;\">\n",
       "      <th>target</th>\n",
       "      <th>0</th>\n",
       "      <th>1</th>\n",
       "    </tr>\n",
       "    <tr>\n",
       "      <th>cp</th>\n",
       "      <th></th>\n",
       "      <th></th>\n",
       "    </tr>\n",
       "  </thead>\n",
       "  <tbody>\n",
       "    <tr>\n",
       "      <th>0</th>\n",
       "      <td>104</td>\n",
       "      <td>39</td>\n",
       "    </tr>\n",
       "    <tr>\n",
       "      <th>1</th>\n",
       "      <td>9</td>\n",
       "      <td>41</td>\n",
       "    </tr>\n",
       "    <tr>\n",
       "      <th>2</th>\n",
       "      <td>18</td>\n",
       "      <td>69</td>\n",
       "    </tr>\n",
       "    <tr>\n",
       "      <th>3</th>\n",
       "      <td>7</td>\n",
       "      <td>16</td>\n",
       "    </tr>\n",
       "  </tbody>\n",
       "</table>\n",
       "</div>"
      ],
      "text/plain": [
       "target    0   1\n",
       "cp             \n",
       "0       104  39\n",
       "1         9  41\n",
       "2        18  69\n",
       "3         7  16"
      ]
     },
     "execution_count": 18,
     "metadata": {},
     "output_type": "execute_result"
    }
   ],
   "source": [
    "pd.crosstab(df.cp, df.target)"
   ]
  },
  {
   "cell_type": "code",
   "execution_count": 19,
   "metadata": {},
   "outputs": [
    {
     "data": {
      "text/plain": [
       "<Figure size 720x432 with 0 Axes>"
      ]
     },
     "metadata": {},
     "output_type": "display_data"
    },
    {
     "data": {
      "image/png": "[encoded data removed]",
      "text/plain": [
       "<Figure size 720x432 with 1 Axes>"
      ]
     },
     "metadata": {
      "needs_background": "light"
     },
     "output_type": "display_data"
    }
   ],
   "source": [
    "plt.figure(figsize = (10,6))\n",
    "\n",
    "pd.crosstab(df.cp, df.target).plot(kind='bar', figsize =(10,6),  color = ['salmon', 'lightblue']);\n",
    "plt.title('Heart Disease Frequency for Chest pain type')\n",
    "plt.xlabel('Chest Pain Type')\n",
    "plt.ylabel('Amount')\n",
    "plt.legend(['Disease', 'No Disease'])\n",
    "plt.xticks(rotation = 0);\n",
    "\n"
   ]
  },
  {
   "cell_type": "code",
   "execution_count": 20,
   "metadata": {},
   "outputs": [
    {
     "data": {
      "text/html": [
       "<div>\n",
       "<style scoped>\n",
       "    .dataframe tbody tr th:only-of-type {\n",
       "        vertical-align: middle;\n",
       "    }\n",
       "\n",
       "    .dataframe tbody tr th {\n",
       "        vertical-align: top;\n",
       "    }\n",
       "\n",
       "    .dataframe thead th {\n",
       "        text-align: right;\n",
       "    }\n",
       "</style>\n",
       "<table border=\"1\" class=\"dataframe\">\n",
       "  <thead>\n",
       "    <tr style=\"text-align: right;\">\n",
       "      <th></th>\n",
       "      <th>age</th>\n",
       "      <th>sex</th>\n",
       "      <th>cp</th>\n",
       "      <th>trestbps</th>\n",
       "      <th>chol</th>\n",
       "      <th>fbs</th>\n",
       "      <th>restecg</th>\n",
       "      <th>thalach</th>\n",
       "      <th>exang</th>\n",
       "      <th>oldpeak</th>\n",
       "      <th>slope</th>\n",
       "      <th>ca</th>\n",
       "      <th>thal</th>\n",
       "      <th>target</th>\n",
       "    </tr>\n",
       "  </thead>\n",
       "  <tbody>\n",
       "    <tr>\n",
       "      <th>age</th>\n",
       "      <td>1.000000</td>\n",
       "      <td>-0.098447</td>\n",
       "      <td>-0.068653</td>\n",
       "      <td>0.279351</td>\n",
       "      <td>0.213678</td>\n",
       "      <td>0.121308</td>\n",
       "      <td>-0.116211</td>\n",
       "      <td>-0.398522</td>\n",
       "      <td>0.096801</td>\n",
       "      <td>0.210013</td>\n",
       "      <td>-0.168814</td>\n",
       "      <td>0.276326</td>\n",
       "      <td>0.068001</td>\n",
       "      <td>-0.225439</td>\n",
       "    </tr>\n",
       "    <tr>\n",
       "      <th>sex</th>\n",
       "      <td>-0.098447</td>\n",
       "      <td>1.000000</td>\n",
       "      <td>-0.049353</td>\n",
       "      <td>-0.056769</td>\n",
       "      <td>-0.197912</td>\n",
       "      <td>0.045032</td>\n",
       "      <td>-0.058196</td>\n",
       "      <td>-0.044020</td>\n",
       "      <td>0.141664</td>\n",
       "      <td>0.096093</td>\n",
       "      <td>-0.030711</td>\n",
       "      <td>0.118261</td>\n",
       "      <td>0.210041</td>\n",
       "      <td>-0.280937</td>\n",
       "    </tr>\n",
       "    <tr>\n",
       "      <th>cp</th>\n",
       "      <td>-0.068653</td>\n",
       "      <td>-0.049353</td>\n",
       "      <td>1.000000</td>\n",
       "      <td>0.047608</td>\n",
       "      <td>-0.076904</td>\n",
       "      <td>0.094444</td>\n",
       "      <td>0.044421</td>\n",
       "      <td>0.295762</td>\n",
       "      <td>-0.394280</td>\n",
       "      <td>-0.149230</td>\n",
       "      <td>0.119717</td>\n",
       "      <td>-0.181053</td>\n",
       "      <td>-0.161736</td>\n",
       "      <td>0.433798</td>\n",
       "    </tr>\n",
       "    <tr>\n",
       "      <th>trestbps</th>\n",
       "      <td>0.279351</td>\n",
       "      <td>-0.056769</td>\n",
       "      <td>0.047608</td>\n",
       "      <td>1.000000</td>\n",
       "      <td>0.123174</td>\n",
       "      <td>0.177531</td>\n",
       "      <td>-0.114103</td>\n",
       "      <td>-0.046698</td>\n",
       "      <td>0.067616</td>\n",
       "      <td>0.193216</td>\n",
       "      <td>-0.121475</td>\n",
       "      <td>0.101389</td>\n",
       "      <td>0.062210</td>\n",
       "      <td>-0.144931</td>\n",
       "    </tr>\n",
       "    <tr>\n",
       "      <th>chol</th>\n",
       "      <td>0.213678</td>\n",
       "      <td>-0.197912</td>\n",
       "      <td>-0.076904</td>\n",
       "      <td>0.123174</td>\n",
       "      <td>1.000000</td>\n",
       "      <td>0.013294</td>\n",
       "      <td>-0.151040</td>\n",
       "      <td>-0.009940</td>\n",
       "      <td>0.067023</td>\n",
       "      <td>0.053952</td>\n",
       "      <td>-0.004038</td>\n",
       "      <td>0.070511</td>\n",
       "      <td>0.098803</td>\n",
       "      <td>-0.085239</td>\n",
       "    </tr>\n",
       "    <tr>\n",
       "      <th>fbs</th>\n",
       "      <td>0.121308</td>\n",
       "      <td>0.045032</td>\n",
       "      <td>0.094444</td>\n",
       "      <td>0.177531</td>\n",
       "      <td>0.013294</td>\n",
       "      <td>1.000000</td>\n",
       "      <td>-0.084189</td>\n",
       "      <td>-0.008567</td>\n",
       "      <td>0.025665</td>\n",
       "      <td>0.005747</td>\n",
       "      <td>-0.059894</td>\n",
       "      <td>0.137979</td>\n",
       "      <td>-0.032019</td>\n",
       "      <td>-0.028046</td>\n",
       "    </tr>\n",
       "    <tr>\n",
       "      <th>restecg</th>\n",
       "      <td>-0.116211</td>\n",
       "      <td>-0.058196</td>\n",
       "      <td>0.044421</td>\n",
       "      <td>-0.114103</td>\n",
       "      <td>-0.151040</td>\n",
       "      <td>-0.084189</td>\n",
       "      <td>1.000000</td>\n",
       "      <td>0.044123</td>\n",
       "      <td>-0.070733</td>\n",
       "      <td>-0.058770</td>\n",
       "      <td>0.093045</td>\n",
       "      <td>-0.072042</td>\n",
       "      <td>-0.011981</td>\n",
       "      <td>0.137230</td>\n",
       "    </tr>\n",
       "    <tr>\n",
       "      <th>thalach</th>\n",
       "      <td>-0.398522</td>\n",
       "      <td>-0.044020</td>\n",
       "      <td>0.295762</td>\n",
       "      <td>-0.046698</td>\n",
       "      <td>-0.009940</td>\n",
       "      <td>-0.008567</td>\n",
       "      <td>0.044123</td>\n",
       "      <td>1.000000</td>\n",
       "      <td>-0.378812</td>\n",
       "      <td>-0.344187</td>\n",
       "      <td>0.386784</td>\n",
       "      <td>-0.213177</td>\n",
       "      <td>-0.096439</td>\n",
       "      <td>0.421741</td>\n",
       "    </tr>\n",
       "    <tr>\n",
       "      <th>exang</th>\n",
       "      <td>0.096801</td>\n",
       "      <td>0.141664</td>\n",
       "      <td>-0.394280</td>\n",
       "      <td>0.067616</td>\n",
       "      <td>0.067023</td>\n",
       "      <td>0.025665</td>\n",
       "      <td>-0.070733</td>\n",
       "      <td>-0.378812</td>\n",
       "      <td>1.000000</td>\n",
       "      <td>0.288223</td>\n",
       "      <td>-0.257748</td>\n",
       "      <td>0.115739</td>\n",
       "      <td>0.206754</td>\n",
       "      <td>-0.436757</td>\n",
       "    </tr>\n",
       "    <tr>\n",
       "      <th>oldpeak</th>\n",
       "      <td>0.210013</td>\n",
       "      <td>0.096093</td>\n",
       "      <td>-0.149230</td>\n",
       "      <td>0.193216</td>\n",
       "      <td>0.053952</td>\n",
       "      <td>0.005747</td>\n",
       "      <td>-0.058770</td>\n",
       "      <td>-0.344187</td>\n",
       "      <td>0.288223</td>\n",
       "      <td>1.000000</td>\n",
       "      <td>-0.577537</td>\n",
       "      <td>0.222682</td>\n",
       "      <td>0.210244</td>\n",
       "      <td>-0.430696</td>\n",
       "    </tr>\n",
       "    <tr>\n",
       "      <th>slope</th>\n",
       "      <td>-0.168814</td>\n",
       "      <td>-0.030711</td>\n",
       "      <td>0.119717</td>\n",
       "      <td>-0.121475</td>\n",
       "      <td>-0.004038</td>\n",
       "      <td>-0.059894</td>\n",
       "      <td>0.093045</td>\n",
       "      <td>0.386784</td>\n",
       "      <td>-0.257748</td>\n",
       "      <td>-0.577537</td>\n",
       "      <td>1.000000</td>\n",
       "      <td>-0.080155</td>\n",
       "      <td>-0.104764</td>\n",
       "      <td>0.345877</td>\n",
       "    </tr>\n",
       "    <tr>\n",
       "      <th>ca</th>\n",
       "      <td>0.276326</td>\n",
       "      <td>0.118261</td>\n",
       "      <td>-0.181053</td>\n",
       "      <td>0.101389</td>\n",
       "      <td>0.070511</td>\n",
       "      <td>0.137979</td>\n",
       "      <td>-0.072042</td>\n",
       "      <td>-0.213177</td>\n",
       "      <td>0.115739</td>\n",
       "      <td>0.222682</td>\n",
       "      <td>-0.080155</td>\n",
       "      <td>1.000000</td>\n",
       "      <td>0.151832</td>\n",
       "      <td>-0.391724</td>\n",
       "    </tr>\n",
       "    <tr>\n",
       "      <th>thal</th>\n",
       "      <td>0.068001</td>\n",
       "      <td>0.210041</td>\n",
       "      <td>-0.161736</td>\n",
       "      <td>0.062210</td>\n",
       "      <td>0.098803</td>\n",
       "      <td>-0.032019</td>\n",
       "      <td>-0.011981</td>\n",
       "      <td>-0.096439</td>\n",
       "      <td>0.206754</td>\n",
       "      <td>0.210244</td>\n",
       "      <td>-0.104764</td>\n",
       "      <td>0.151832</td>\n",
       "      <td>1.000000</td>\n",
       "      <td>-0.344029</td>\n",
       "    </tr>\n",
       "    <tr>\n",
       "      <th>target</th>\n",
       "      <td>-0.225439</td>\n",
       "      <td>-0.280937</td>\n",
       "      <td>0.433798</td>\n",
       "      <td>-0.144931</td>\n",
       "      <td>-0.085239</td>\n",
       "      <td>-0.028046</td>\n",
       "      <td>0.137230</td>\n",
       "      <td>0.421741</td>\n",
       "      <td>-0.436757</td>\n",
       "      <td>-0.430696</td>\n",
       "      <td>0.345877</td>\n",
       "      <td>-0.391724</td>\n",
       "      <td>-0.344029</td>\n",
       "      <td>1.000000</td>\n",
       "    </tr>\n",
       "  </tbody>\n",
       "</table>\n",
       "</div>"
      ],
      "text/plain": [
       "               age       sex        cp  trestbps      chol       fbs  \\\n",
       "age       1.000000 -0.098447 -0.068653  0.279351  0.213678  0.121308   \n",
       "sex      -0.098447  1.000000 -0.049353 -0.056769 -0.197912  0.045032   \n",
       "cp       -0.068653 -0.049353  1.000000  0.047608 -0.076904  0.094444   \n",
       "trestbps  0.279351 -0.056769  0.047608  1.000000  0.123174  0.177531   \n",
       "chol      0.213678 -0.197912 -0.076904  0.123174  1.000000  0.013294   \n",
       "fbs       0.121308  0.045032  0.094444  0.177531  0.013294  1.000000   \n",
       "restecg  -0.116211 -0.058196  0.044421 -0.114103 -0.151040 -0.084189   \n",
       "thalach  -0.398522 -0.044020  0.295762 -0.046698 -0.009940 -0.008567   \n",
       "exang     0.096801  0.141664 -0.394280  0.067616  0.067023  0.025665   \n",
       "oldpeak   0.210013  0.096093 -0.149230  0.193216  0.053952  0.005747   \n",
       "slope    -0.168814 -0.030711  0.119717 -0.121475 -0.004038 -0.059894   \n",
       "ca        0.276326  0.118261 -0.181053  0.101389  0.070511  0.137979   \n",
       "thal      0.068001  0.210041 -0.161736  0.062210  0.098803 -0.032019   \n",
       "target   -0.225439 -0.280937  0.433798 -0.144931 -0.085239 -0.028046   \n",
       "\n",
       "           restecg   thalach     exang   oldpeak     slope        ca  \\\n",
       "age      -0.116211 -0.398522  0.096801  0.210013 -0.168814  0.276326   \n",
       "sex      -0.058196 -0.044020  0.141664  0.096093 -0.030711  0.118261   \n",
       "cp        0.044421  0.295762 -0.394280 -0.149230  0.119717 -0.181053   \n",
       "trestbps -0.114103 -0.046698  0.067616  0.193216 -0.121475  0.101389   \n",
       "chol     -0.151040 -0.009940  0.067023  0.053952 -0.004038  0.070511   \n",
       "fbs      -0.084189 -0.008567  0.025665  0.005747 -0.059894  0.137979   \n",
       "restecg   1.000000  0.044123 -0.070733 -0.058770  0.093045 -0.072042   \n",
       "thalach   0.044123  1.000000 -0.378812 -0.344187  0.386784 -0.213177   \n",
       "exang    -0.070733 -0.378812  1.000000  0.288223 -0.257748  0.115739   \n",
       "oldpeak  -0.058770 -0.344187  0.288223  1.000000 -0.577537  0.222682   \n",
       "slope     0.093045  0.386784 -0.257748 -0.577537  1.000000 -0.080155   \n",
       "ca       -0.072042 -0.213177  0.115739  0.222682 -0.080155  1.000000   \n",
       "thal     -0.011981 -0.096439  0.206754  0.210244 -0.104764  0.151832   \n",
       "target    0.137230  0.421741 -0.436757 -0.430696  0.345877 -0.391724   \n",
       "\n",
       "              thal    target  \n",
       "age       0.068001 -0.225439  \n",
       "sex       0.210041 -0.280937  \n",
       "cp       -0.161736  0.433798  \n",
       "trestbps  0.062210 -0.144931  \n",
       "chol      0.098803 -0.085239  \n",
       "fbs      -0.032019 -0.028046  \n",
       "restecg  -0.011981  0.137230  \n",
       "thalach  -0.096439  0.421741  \n",
       "exang     0.206754 -0.436757  \n",
       "oldpeak   0.210244 -0.430696  \n",
       "slope    -0.104764  0.345877  \n",
       "ca        0.151832 -0.391724  \n",
       "thal      1.000000 -0.344029  \n",
       "target   -0.344029  1.000000  "
      ]
     },
     "execution_count": 20,
     "metadata": {},
     "output_type": "execute_result"
    }
   ],
   "source": [
    "#correlation matrix\n",
    "df.corr()"
   ]
  },
  {
   "cell_type": "code",
   "execution_count": 21,
   "metadata": {},
   "outputs": [
    {
     "data": {
      "image/png": "[encoded data removed]",
      "text/plain": [
       "<Figure size 1080x720 with 2 Axes>"
      ]
     },
     "metadata": {
      "needs_background": "light"
     },
     "output_type": "display_data"
    }
   ],
   "source": [
    "corr_matrix = df.corr()\n",
    "fig,ax = plt.subplots(figsize = (15,10))\n",
    "ax = sns.heatmap(corr_matrix, annot = True, linewidths=0.5, fmt = '0.2f', cmap = 'YlGnBu')"
   ]
  },
  {
   "cell_type": "markdown",
   "metadata": {},
   "source": []
  },
  {
   "cell_type": "markdown",
   "metadata": {},
   "source": [
    "## 5. Modelling"
   ]
  },
  {
   "cell_type": "code",
   "execution_count": 22,
   "metadata": {},
   "outputs": [
    {
     "data": {
      "text/html": [
       "<div>\n",
       "<style scoped>\n",
       "    .dataframe tbody tr th:only-of-type {\n",
       "        vertical-align: middle;\n",
       "    }\n",
       "\n",
       "    .dataframe tbody tr th {\n",
       "        vertical-align: top;\n",
       "    }\n",
       "\n",
       "    .dataframe thead th {\n",
       "        text-align: right;\n",
       "    }\n",
       "</style>\n",
       "<table border=\"1\" class=\"dataframe\">\n",
       "  <thead>\n",
       "    <tr style=\"text-align: right;\">\n",
       "      <th></th>\n",
       "      <th>age</th>\n",
       "      <th>sex</th>\n",
       "      <th>cp</th>\n",
       "      <th>trestbps</th>\n",
       "      <th>chol</th>\n",
       "      <th>fbs</th>\n",
       "      <th>restecg</th>\n",
       "      <th>thalach</th>\n",
       "      <th>exang</th>\n",
       "      <th>oldpeak</th>\n",
       "      <th>slope</th>\n",
       "      <th>ca</th>\n",
       "      <th>thal</th>\n",
       "    </tr>\n",
       "  </thead>\n",
       "  <tbody>\n",
       "    <tr>\n",
       "      <th>132</th>\n",
       "      <td>42</td>\n",
       "      <td>1</td>\n",
       "      <td>1</td>\n",
       "      <td>120</td>\n",
       "      <td>295</td>\n",
       "      <td>0</td>\n",
       "      <td>1</td>\n",
       "      <td>162</td>\n",
       "      <td>0</td>\n",
       "      <td>0.0</td>\n",
       "      <td>2</td>\n",
       "      <td>0</td>\n",
       "      <td>2</td>\n",
       "    </tr>\n",
       "    <tr>\n",
       "      <th>202</th>\n",
       "      <td>58</td>\n",
       "      <td>1</td>\n",
       "      <td>0</td>\n",
       "      <td>150</td>\n",
       "      <td>270</td>\n",
       "      <td>0</td>\n",
       "      <td>0</td>\n",
       "      <td>111</td>\n",
       "      <td>1</td>\n",
       "      <td>0.8</td>\n",
       "      <td>2</td>\n",
       "      <td>0</td>\n",
       "      <td>3</td>\n",
       "    </tr>\n",
       "    <tr>\n",
       "      <th>196</th>\n",
       "      <td>46</td>\n",
       "      <td>1</td>\n",
       "      <td>2</td>\n",
       "      <td>150</td>\n",
       "      <td>231</td>\n",
       "      <td>0</td>\n",
       "      <td>1</td>\n",
       "      <td>147</td>\n",
       "      <td>0</td>\n",
       "      <td>3.6</td>\n",
       "      <td>1</td>\n",
       "      <td>0</td>\n",
       "      <td>2</td>\n",
       "    </tr>\n",
       "    <tr>\n",
       "      <th>75</th>\n",
       "      <td>55</td>\n",
       "      <td>0</td>\n",
       "      <td>1</td>\n",
       "      <td>135</td>\n",
       "      <td>250</td>\n",
       "      <td>0</td>\n",
       "      <td>0</td>\n",
       "      <td>161</td>\n",
       "      <td>0</td>\n",
       "      <td>1.4</td>\n",
       "      <td>1</td>\n",
       "      <td>0</td>\n",
       "      <td>2</td>\n",
       "    </tr>\n",
       "    <tr>\n",
       "      <th>176</th>\n",
       "      <td>60</td>\n",
       "      <td>1</td>\n",
       "      <td>0</td>\n",
       "      <td>117</td>\n",
       "      <td>230</td>\n",
       "      <td>1</td>\n",
       "      <td>1</td>\n",
       "      <td>160</td>\n",
       "      <td>1</td>\n",
       "      <td>1.4</td>\n",
       "      <td>2</td>\n",
       "      <td>2</td>\n",
       "      <td>3</td>\n",
       "    </tr>\n",
       "    <tr>\n",
       "      <th>...</th>\n",
       "      <td>...</td>\n",
       "      <td>...</td>\n",
       "      <td>...</td>\n",
       "      <td>...</td>\n",
       "      <td>...</td>\n",
       "      <td>...</td>\n",
       "      <td>...</td>\n",
       "      <td>...</td>\n",
       "      <td>...</td>\n",
       "      <td>...</td>\n",
       "      <td>...</td>\n",
       "      <td>...</td>\n",
       "      <td>...</td>\n",
       "    </tr>\n",
       "    <tr>\n",
       "      <th>188</th>\n",
       "      <td>50</td>\n",
       "      <td>1</td>\n",
       "      <td>2</td>\n",
       "      <td>140</td>\n",
       "      <td>233</td>\n",
       "      <td>0</td>\n",
       "      <td>1</td>\n",
       "      <td>163</td>\n",
       "      <td>0</td>\n",
       "      <td>0.6</td>\n",
       "      <td>1</td>\n",
       "      <td>1</td>\n",
       "      <td>3</td>\n",
       "    </tr>\n",
       "    <tr>\n",
       "      <th>71</th>\n",
       "      <td>51</td>\n",
       "      <td>1</td>\n",
       "      <td>2</td>\n",
       "      <td>94</td>\n",
       "      <td>227</td>\n",
       "      <td>0</td>\n",
       "      <td>1</td>\n",
       "      <td>154</td>\n",
       "      <td>1</td>\n",
       "      <td>0.0</td>\n",
       "      <td>2</td>\n",
       "      <td>1</td>\n",
       "      <td>3</td>\n",
       "    </tr>\n",
       "    <tr>\n",
       "      <th>106</th>\n",
       "      <td>69</td>\n",
       "      <td>1</td>\n",
       "      <td>3</td>\n",
       "      <td>160</td>\n",
       "      <td>234</td>\n",
       "      <td>1</td>\n",
       "      <td>0</td>\n",
       "      <td>131</td>\n",
       "      <td>0</td>\n",
       "      <td>0.1</td>\n",
       "      <td>1</td>\n",
       "      <td>1</td>\n",
       "      <td>2</td>\n",
       "    </tr>\n",
       "    <tr>\n",
       "      <th>270</th>\n",
       "      <td>46</td>\n",
       "      <td>1</td>\n",
       "      <td>0</td>\n",
       "      <td>120</td>\n",
       "      <td>249</td>\n",
       "      <td>0</td>\n",
       "      <td>0</td>\n",
       "      <td>144</td>\n",
       "      <td>0</td>\n",
       "      <td>0.8</td>\n",
       "      <td>2</td>\n",
       "      <td>0</td>\n",
       "      <td>3</td>\n",
       "    </tr>\n",
       "    <tr>\n",
       "      <th>102</th>\n",
       "      <td>63</td>\n",
       "      <td>0</td>\n",
       "      <td>1</td>\n",
       "      <td>140</td>\n",
       "      <td>195</td>\n",
       "      <td>0</td>\n",
       "      <td>1</td>\n",
       "      <td>179</td>\n",
       "      <td>0</td>\n",
       "      <td>0.0</td>\n",
       "      <td>2</td>\n",
       "      <td>2</td>\n",
       "      <td>2</td>\n",
       "    </tr>\n",
       "  </tbody>\n",
       "</table>\n",
       "<p>242 rows × 13 columns</p>\n",
       "</div>"
      ],
      "text/plain": [
       "     age  sex  cp  trestbps  chol  fbs  restecg  thalach  exang  oldpeak  \\\n",
       "132   42    1   1       120   295    0        1      162      0      0.0   \n",
       "202   58    1   0       150   270    0        0      111      1      0.8   \n",
       "196   46    1   2       150   231    0        1      147      0      3.6   \n",
       "75    55    0   1       135   250    0        0      161      0      1.4   \n",
       "176   60    1   0       117   230    1        1      160      1      1.4   \n",
       "..   ...  ...  ..       ...   ...  ...      ...      ...    ...      ...   \n",
       "188   50    1   2       140   233    0        1      163      0      0.6   \n",
       "71    51    1   2        94   227    0        1      154      1      0.0   \n",
       "106   69    1   3       160   234    1        0      131      0      0.1   \n",
       "270   46    1   0       120   249    0        0      144      0      0.8   \n",
       "102   63    0   1       140   195    0        1      179      0      0.0   \n",
       "\n",
       "     slope  ca  thal  \n",
       "132      2   0     2  \n",
       "202      2   0     3  \n",
       "196      1   0     2  \n",
       "75       1   0     2  \n",
       "176      2   2     3  \n",
       "..     ...  ..   ...  \n",
       "188      1   1     3  \n",
       "71       2   1     3  \n",
       "106      1   1     2  \n",
       "270      2   0     3  \n",
       "102      2   2     2  \n",
       "\n",
       "[242 rows x 13 columns]"
      ]
     },
     "execution_count": 22,
     "metadata": {},
     "output_type": "execute_result"
    }
   ],
   "source": [
    "# split the data into X and y\n",
    "X= df.drop('target', axis =1)\n",
    "y= df['target']\n",
    "\n",
    "np.random.seed(42)\n",
    "\n",
    "#split the data into training and test set\n",
    "X_train, X_test, y_train, y_test = train_test_split(X,y, test_size =0.2)\n",
    "X_train"
   ]
  },
  {
   "cell_type": "markdown",
   "metadata": {},
   "source": [
    "try three different machine learning model (Logistic Regression, KNeighbors Classifier, RandomForestClassifer)"
   ]
  },
  {
   "cell_type": "code",
   "execution_count": 23,
   "metadata": {
    "scrolled": false
   },
   "outputs": [],
   "source": [
    "models = {'Logistic Regression': LogisticRegression(),\n",
    "          'KNeighbors Classifier': KNeighborsClassifier(),\n",
    "          'RandomForestClassifer': RandomForestClassifier()}\n",
    "\n",
    "def fit_and_score(models, X_train, X_test, y_train, y_test):\n",
    "    \"\"\"\n",
    "    Fit and evaluate the given machine learning models\n",
    "    models: different Scikit-Learn models\n",
    "    \"\"\"\n",
    "    np.random.seed(42)\n",
    "    model_scores = {}\n",
    "    for name, model in models.items():\n",
    "        model.fit(X_train, y_train)\n",
    "        model_scores[name] = model.score(X_test, y_test)\n",
    "    return model_scores\n",
    "\n",
    "\n"
   ]
  },
  {
   "cell_type": "code",
   "execution_count": 24,
   "metadata": {},
   "outputs": [
    {
     "name": "stderr",
     "output_type": "stream",
     "text": [
      "/Users/kitlamlin97/Desktop/MLProject/env/lib/python3.8/site-packages/sklearn/linear_model/_logistic.py:762: ConvergenceWarning: lbfgs failed to converge (status=1):\n",
      "STOP: TOTAL NO. of ITERATIONS REACHED LIMIT.\n",
      "\n",
      "Increase the number of iterations (max_iter) or scale the data as shown in:\n",
      "    https://scikit-learn.org/stable/modules/preprocessing.html\n",
      "Please also refer to the documentation for alternative solver options:\n",
      "    https://scikit-learn.org/stable/modules/linear_model.html#logistic-regression\n",
      "  n_iter_i = _check_optimize_result(\n"
     ]
    },
    {
     "data": {
      "text/plain": [
       "{'Logistic Regression': 0.8852459016393442,\n",
       " 'KNeighbors Classifier': 0.6885245901639344,\n",
       " 'RandomForestClassifer': 0.8360655737704918}"
      ]
     },
     "execution_count": 24,
     "metadata": {},
     "output_type": "execute_result"
    }
   ],
   "source": [
    "model_scores = fit_and_score(models = models,X_train= X_train,X_test= X_test, y_train= y_train, y_test=y_test)\n",
    "model_scores"
   ]
  },
  {
   "cell_type": "markdown",
   "metadata": {},
   "source": [
    "### Model Comparison"
   ]
  },
  {
   "cell_type": "code",
   "execution_count": 25,
   "metadata": {},
   "outputs": [
    {
     "data": {
      "text/plain": [
       "(array([0, 1, 2]),\n",
       " [Text(0, 0, 'Logistic Regression'),\n",
       "  Text(1, 0, 'KNeighbors Classifier'),\n",
       "  Text(2, 0, 'RandomForestClassifer')])"
      ]
     },
     "execution_count": 25,
     "metadata": {},
     "output_type": "execute_result"
    },
    {
     "data": {
      "image/png": "[encoded data removed]",
      "text/plain": [
       "<Figure size 720x432 with 1 Axes>"
      ]
     },
     "metadata": {
      "needs_background": "light"
     },
     "output_type": "display_data"
    }
   ],
   "source": [
    "model_compare = pd.DataFrame(model_scores, index = ['accuracy'])\n",
    "model_compare.T.plot(kind = 'bar',figsize = (10,6))\n",
    "plt.xticks(rotation=True)"
   ]
  },
  {
   "cell_type": "markdown",
   "metadata": {},
   "source": [
    "### What to do next?\n",
    "* Hyperparameter tuning\n",
    "* Feature importance\n",
    "* Confusion matrix\n",
    "* Cross validation\n",
    "* Precision\n",
    "* recall\n",
    "* f1 score\n",
    "* Classification report\n",
    "* ROC curve\n",
    "* Area under the curve (AUC)"
   ]
  },
  {
   "cell_type": "markdown",
   "metadata": {},
   "source": [
    "### Hyperparameter tuning"
   ]
  },
  {
   "cell_type": "code",
   "execution_count": 26,
   "metadata": {},
   "outputs": [],
   "source": [
    "train_score = []\n",
    "test_score = []\n",
    "\n",
    "# create a list of different values for n_neighbors\n",
    "neighbors = np.arange(1,20,1)\n",
    "\n",
    "KNN= KNeighborsClassifier()\n",
    "for i in neighbors:\n",
    "    KNN.set_params(n_neighbors=i)\n",
    "    \n",
    "    KNN.fit(X_train, y_train)\n",
    "    \n",
    "    train_score.append(KNN.score(X_train, y_train))\n",
    "    \n",
    "    test_score.append(KNN.score(X_test, y_test))\n",
    "    \n",
    "    "
   ]
  },
  {
   "cell_type": "code",
   "execution_count": 27,
   "metadata": {},
   "outputs": [
    {
     "data": {
      "text/plain": [
       "(1.0, 0.7540983606557377)"
      ]
     },
     "execution_count": 27,
     "metadata": {},
     "output_type": "execute_result"
    }
   ],
   "source": [
    "max(train_score),max(test_score)"
   ]
  },
  {
   "cell_type": "code",
   "execution_count": 28,
   "metadata": {},
   "outputs": [
    {
     "name": "stdout",
     "output_type": "stream",
     "text": [
      "Maximum KNN score on the test data: 75.41%\n"
     ]
    },
    {
     "data": {
      "image/png": "[encoded data removed]",
      "text/plain": [
       "<Figure size 432x288 with 1 Axes>"
      ]
     },
     "metadata": {
      "needs_background": "light"
     },
     "output_type": "display_data"
    }
   ],
   "source": [
    "plt.plot(neighbors, train_score, label = 'Train score')\n",
    "plt.plot(neighbors, test_score, label = 'Test score')\n",
    "plt.xticks(np.arange(1,21,1))\n",
    "plt.xlabel('No. of neighbors')\n",
    "plt.ylabel('Model score');\n",
    "plt.legend(['train score', 'test score'])\n",
    "\n",
    "print(f'Maximum KNN score on the test data: {max(test_score)*100:.2f}%')"
   ]
  },
  {
   "cell_type": "markdown",
   "metadata": {},
   "source": [
    "### Hyperparameters tuning with RandomizedSearchCV\n",
    "\n",
    "We are going to tune LogisticRegression() and RandomForestClassifier() using RandomizedSearchCV"
   ]
  },
  {
   "cell_type": "code",
   "execution_count": 29,
   "metadata": {},
   "outputs": [],
   "source": [
    "# hyperparameter grid for Logistic Regression\n",
    "log_reg_grid = {'C': np.logspace(-4,4,20),\n",
    "                'solver':['liblinear']}\n",
    "\n",
    "# hyperparameter grid for Random Forest Classifier\n",
    "rf_clf_grid = {'n_estimators': np.arange(10,1000,50),\n",
    "               'max_depth': [None,3,5,10],\n",
    "               'min_samples_split': np.arange(2,20,2),\n",
    "               'min_samples_leaf': np.arange(1,20,2)}"
   ]
  },
  {
   "cell_type": "code",
   "execution_count": 51,
   "metadata": {},
   "outputs": [
    {
     "name": "stdout",
     "output_type": "stream",
     "text": [
      "Fitting 5 folds for each of 20 candidates, totalling 100 fits\n",
      "[CV] solver=liblinear, C=0.0001 ......................................\n",
      "[CV] ....................... solver=liblinear, C=0.0001, total=   0.0s\n",
      "[CV] solver=liblinear, C=0.0001 ......................................\n",
      "[CV] ....................... solver=liblinear, C=0.0001, total=   0.0s\n",
      "[CV] solver=liblinear, C=0.0001 ......................................\n",
      "[CV] ....................... solver=liblinear, C=0.0001, total=   0.0s\n",
      "[CV] solver=liblinear, C=0.0001 ......................................\n",
      "[CV] ....................... solver=liblinear, C=0.0001, total=   0.0s\n",
      "[CV] solver=liblinear, C=0.0001 ......................................\n",
      "[CV] ....................... solver=liblinear, C=0.0001, total=   0.0s\n",
      "[CV] solver=liblinear, C=0.00026366508987303583 ......................\n",
      "[CV] ....... solver=liblinear, C=0.00026366508987303583, total=   0.0s\n",
      "[CV] solver=liblinear, C=0.00026366508987303583 ......................\n",
      "[CV] ....... solver=liblinear, C=0.00026366508987303583, total=   0.0s\n",
      "[CV] solver=liblinear, C=0.00026366508987303583 ......................\n",
      "[CV] ....... solver=liblinear, C=0.00026366508987303583, total=   0.0s\n",
      "[CV] solver=liblinear, C=0.00026366508987303583 ......................\n",
      "[CV] ....... solver=liblinear, C=0.00026366508987303583, total=   0.0s\n",
      "[CV] solver=liblinear, C=0.00026366508987303583 ......................\n",
      "[CV] ....... solver=liblinear, C=0.00026366508987303583, total=   0.0s\n",
      "[CV] solver=liblinear, C=0.0006951927961775605 .......................\n",
      "[CV] ........ solver=liblinear, C=0.0006951927961775605, total=   0.0s\n",
      "[CV] solver=liblinear, C=0.0006951927961775605 .......................\n",
      "[CV] ........ solver=liblinear, C=0.0006951927961775605, total=   0.0s\n",
      "[CV] solver=liblinear, C=0.0006951927961775605 .......................\n",
      "[CV] ........ solver=liblinear, C=0.0006951927961775605, total=   0.0s\n",
      "[CV] solver=liblinear, C=0.0006951927961775605 .......................\n",
      "[CV] ........ solver=liblinear, C=0.0006951927961775605, total=   0.0s\n",
      "[CV] solver=liblinear, C=0.0006951927961775605 .......................\n",
      "[CV] ........ solver=liblinear, C=0.0006951927961775605, total=   0.0s\n",
      "[CV] solver=liblinear, C=0.0018329807108324356 .......................\n",
      "[CV] ........ solver=liblinear, C=0.0018329807108324356, total=   0.0s\n",
      "[CV] solver=liblinear, C=0.0018329807108324356 .......................\n",
      "[CV] ........ solver=liblinear, C=0.0018329807108324356, total=   0.0s\n",
      "[CV] solver=liblinear, C=0.0018329807108324356 .......................\n",
      "[CV] ........ solver=liblinear, C=0.0018329807108324356, total=   0.0s\n",
      "[CV] solver=liblinear, C=0.0018329807108324356 .......................\n",
      "[CV] ........ solver=liblinear, C=0.0018329807108324356, total=   0.0s\n",
      "[CV] solver=liblinear, C=0.0018329807108324356 .......................\n",
      "[CV] ........ solver=liblinear, C=0.0018329807108324356, total=   0.0s\n",
      "[CV] solver=liblinear, C=0.004832930238571752 ........................\n",
      "[CV] ......... solver=liblinear, C=0.004832930238571752, total=   0.0s\n",
      "[CV] solver=liblinear, C=0.004832930238571752 ........................\n",
      "[CV] ......... solver=liblinear, C=0.004832930238571752, total=   0.0s\n",
      "[CV] solver=liblinear, C=0.004832930238571752 ........................\n",
      "[CV] ......... solver=liblinear, C=0.004832930238571752, total=   0.0s\n",
      "[CV] solver=liblinear, C=0.004832930238571752 ........................\n",
      "[CV] ......... solver=liblinear, C=0.004832930238571752, total=   0.0s\n",
      "[CV] solver=liblinear, C=0.004832930238571752 ........................\n",
      "[CV] ......... solver=liblinear, C=0.004832930238571752, total=   0.0s\n",
      "[CV] solver=liblinear, C=0.012742749857031334 ........................\n",
      "[CV] ......... solver=liblinear, C=0.012742749857031334, total=   0.0s\n",
      "[CV] solver=liblinear, C=0.012742749857031334 ........................\n",
      "[CV] ......... solver=liblinear, C=0.012742749857031334, total=   0.0s\n",
      "[CV] solver=liblinear, C=0.012742749857031334 ........................\n"
     ]
    },
    {
     "name": "stderr",
     "output_type": "stream",
     "text": [
      "[Parallel(n_jobs=1)]: Using backend SequentialBackend with 1 concurrent workers.\n",
      "[Parallel(n_jobs=1)]: Done   1 out of   1 | elapsed:    0.0s remaining:    0.0s\n"
     ]
    },
    {
     "name": "stdout",
     "output_type": "stream",
     "text": [
      "[CV] ......... solver=liblinear, C=0.012742749857031334, total=   0.0s\n",
      "[CV] solver=liblinear, C=0.012742749857031334 ........................\n",
      "[CV] ......... solver=liblinear, C=0.012742749857031334, total=   0.0s\n",
      "[CV] solver=liblinear, C=0.012742749857031334 ........................\n",
      "[CV] ......... solver=liblinear, C=0.012742749857031334, total=   0.0s\n",
      "[CV] solver=liblinear, C=0.03359818286283781 .........................\n",
      "[CV] .......... solver=liblinear, C=0.03359818286283781, total=   0.0s\n",
      "[CV] solver=liblinear, C=0.03359818286283781 .........................\n",
      "[CV] .......... solver=liblinear, C=0.03359818286283781, total=   0.0s\n",
      "[CV] solver=liblinear, C=0.03359818286283781 .........................\n",
      "[CV] .......... solver=liblinear, C=0.03359818286283781, total=   0.0s\n",
      "[CV] solver=liblinear, C=0.03359818286283781 .........................\n",
      "[CV] .......... solver=liblinear, C=0.03359818286283781, total=   0.0s\n",
      "[CV] solver=liblinear, C=0.03359818286283781 .........................\n",
      "[CV] .......... solver=liblinear, C=0.03359818286283781, total=   0.0s\n",
      "[CV] solver=liblinear, C=0.08858667904100823 .........................\n",
      "[CV] .......... solver=liblinear, C=0.08858667904100823, total=   0.0s\n",
      "[CV] solver=liblinear, C=0.08858667904100823 .........................\n",
      "[CV] .......... solver=liblinear, C=0.08858667904100823, total=   0.0s\n",
      "[CV] solver=liblinear, C=0.08858667904100823 .........................\n",
      "[CV] .......... solver=liblinear, C=0.08858667904100823, total=   0.0s\n",
      "[CV] solver=liblinear, C=0.08858667904100823 .........................\n",
      "[CV] .......... solver=liblinear, C=0.08858667904100823, total=   0.0s\n",
      "[CV] solver=liblinear, C=0.08858667904100823 .........................\n",
      "[CV] .......... solver=liblinear, C=0.08858667904100823, total=   0.0s\n",
      "[CV] solver=liblinear, C=0.23357214690901212 .........................\n",
      "[CV] .......... solver=liblinear, C=0.23357214690901212, total=   0.0s\n",
      "[CV] solver=liblinear, C=0.23357214690901212 .........................\n",
      "[CV] .......... solver=liblinear, C=0.23357214690901212, total=   0.0s\n",
      "[CV] solver=liblinear, C=0.23357214690901212 .........................\n",
      "[CV] .......... solver=liblinear, C=0.23357214690901212, total=   0.0s\n",
      "[CV] solver=liblinear, C=0.23357214690901212 .........................\n",
      "[CV] .......... solver=liblinear, C=0.23357214690901212, total=   0.0s\n",
      "[CV] solver=liblinear, C=0.23357214690901212 .........................\n",
      "[CV] .......... solver=liblinear, C=0.23357214690901212, total=   0.0s\n",
      "[CV] solver=liblinear, C=0.615848211066026 ...........................\n",
      "[CV] ............ solver=liblinear, C=0.615848211066026, total=   0.0s\n",
      "[CV] solver=liblinear, C=0.615848211066026 ...........................\n",
      "[CV] ............ solver=liblinear, C=0.615848211066026, total=   0.0s\n",
      "[CV] solver=liblinear, C=0.615848211066026 ...........................\n",
      "[CV] ............ solver=liblinear, C=0.615848211066026, total=   0.0s\n",
      "[CV] solver=liblinear, C=0.615848211066026 ...........................\n",
      "[CV] ............ solver=liblinear, C=0.615848211066026, total=   0.0s\n",
      "[CV] solver=liblinear, C=0.615848211066026 ...........................\n",
      "[CV] ............ solver=liblinear, C=0.615848211066026, total=   0.0s\n",
      "[CV] solver=liblinear, C=1.623776739188721 ...........................\n",
      "[CV] ............ solver=liblinear, C=1.623776739188721, total=   0.0s\n",
      "[CV] solver=liblinear, C=1.623776739188721 ...........................\n",
      "[CV] ............ solver=liblinear, C=1.623776739188721, total=   0.0s\n",
      "[CV] solver=liblinear, C=1.623776739188721 ...........................\n",
      "[CV] ............ solver=liblinear, C=1.623776739188721, total=   0.0s\n",
      "[CV] solver=liblinear, C=1.623776739188721 ...........................\n",
      "[CV] ............ solver=liblinear, C=1.623776739188721, total=   0.0s\n",
      "[CV] solver=liblinear, C=1.623776739188721 ...........................\n",
      "[CV] ............ solver=liblinear, C=1.623776739188721, total=   0.0s\n",
      "[CV] solver=liblinear, C=4.281332398719396 ...........................\n",
      "[CV] ............ solver=liblinear, C=4.281332398719396, total=   0.0s\n",
      "[CV] solver=liblinear, C=4.281332398719396 ...........................\n",
      "[CV] ............ solver=liblinear, C=4.281332398719396, total=   0.0s\n",
      "[CV] solver=liblinear, C=4.281332398719396 ...........................\n",
      "[CV] ............ solver=liblinear, C=4.281332398719396, total=   0.0s\n",
      "[CV] solver=liblinear, C=4.281332398719396 ...........................\n",
      "[CV] ............ solver=liblinear, C=4.281332398719396, total=   0.0s\n",
      "[CV] solver=liblinear, C=4.281332398719396 ...........................\n",
      "[CV] ............ solver=liblinear, C=4.281332398719396, total=   0.0s\n",
      "[CV] solver=liblinear, C=11.288378916846883 ..........................\n",
      "[CV] ........... solver=liblinear, C=11.288378916846883, total=   0.0s\n",
      "[CV] solver=liblinear, C=11.288378916846883 ..........................\n",
      "[CV] ........... solver=liblinear, C=11.288378916846883, total=   0.0s\n",
      "[CV] solver=liblinear, C=11.288378916846883 ..........................\n",
      "[CV] ........... solver=liblinear, C=11.288378916846883, total=   0.0s\n",
      "[CV] solver=liblinear, C=11.288378916846883 ..........................\n",
      "[CV] ........... solver=liblinear, C=11.288378916846883, total=   0.0s\n",
      "[CV] solver=liblinear, C=11.288378916846883 ..........................\n",
      "[CV] ........... solver=liblinear, C=11.288378916846883, total=   0.0s\n",
      "[CV] solver=liblinear, C=29.763514416313132 ..........................\n",
      "[CV] ........... solver=liblinear, C=29.763514416313132, total=   0.0s\n",
      "[CV] solver=liblinear, C=29.763514416313132 ..........................\n",
      "[CV] ........... solver=liblinear, C=29.763514416313132, total=   0.0s\n",
      "[CV] solver=liblinear, C=29.763514416313132 ..........................\n",
      "[CV] ........... solver=liblinear, C=29.763514416313132, total=   0.0s\n",
      "[CV] solver=liblinear, C=29.763514416313132 ..........................\n",
      "[CV] ........... solver=liblinear, C=29.763514416313132, total=   0.0s\n",
      "[CV] solver=liblinear, C=29.763514416313132 ..........................\n",
      "[CV] ........... solver=liblinear, C=29.763514416313132, total=   0.0s\n",
      "[CV] solver=liblinear, C=78.47599703514607 ...........................\n",
      "[CV] ............ solver=liblinear, C=78.47599703514607, total=   0.0s\n",
      "[CV] solver=liblinear, C=78.47599703514607 ...........................\n",
      "[CV] ............ solver=liblinear, C=78.47599703514607, total=   0.0s\n",
      "[CV] solver=liblinear, C=78.47599703514607 ...........................\n",
      "[CV] ............ solver=liblinear, C=78.47599703514607, total=   0.0s\n",
      "[CV] solver=liblinear, C=78.47599703514607 ...........................\n",
      "[CV] ............ solver=liblinear, C=78.47599703514607, total=   0.0s\n",
      "[CV] solver=liblinear, C=78.47599703514607 ...........................\n",
      "[CV] ............ solver=liblinear, C=78.47599703514607, total=   0.0s\n",
      "[CV] solver=liblinear, C=206.913808111479 ............................\n",
      "[CV] ............. solver=liblinear, C=206.913808111479, total=   0.0s\n",
      "[CV] solver=liblinear, C=206.913808111479 ............................\n",
      "[CV] ............. solver=liblinear, C=206.913808111479, total=   0.0s\n",
      "[CV] solver=liblinear, C=206.913808111479 ............................\n",
      "[CV] ............. solver=liblinear, C=206.913808111479, total=   0.0s\n",
      "[CV] solver=liblinear, C=206.913808111479 ............................\n",
      "[CV] ............. solver=liblinear, C=206.913808111479, total=   0.0s\n",
      "[CV] solver=liblinear, C=206.913808111479 ............................\n",
      "[CV] ............. solver=liblinear, C=206.913808111479, total=   0.0s\n",
      "[CV] solver=liblinear, C=545.5594781168514 ...........................\n",
      "[CV] ............ solver=liblinear, C=545.5594781168514, total=   0.0s\n",
      "[CV] solver=liblinear, C=545.5594781168514 ...........................\n",
      "[CV] ............ solver=liblinear, C=545.5594781168514, total=   0.0s\n",
      "[CV] solver=liblinear, C=545.5594781168514 ...........................\n",
      "[CV] ............ solver=liblinear, C=545.5594781168514, total=   0.0s\n",
      "[CV] solver=liblinear, C=545.5594781168514 ...........................\n",
      "[CV] ............ solver=liblinear, C=545.5594781168514, total=   0.0s\n",
      "[CV] solver=liblinear, C=545.5594781168514 ...........................\n",
      "[CV] ............ solver=liblinear, C=545.5594781168514, total=   0.0s\n",
      "[CV] solver=liblinear, C=1438.44988828766 ............................\n"
     ]
    },
    {
     "name": "stdout",
     "output_type": "stream",
     "text": [
      "[CV] ............. solver=liblinear, C=1438.44988828766, total=   0.0s\n",
      "[CV] solver=liblinear, C=1438.44988828766 ............................\n",
      "[CV] ............. solver=liblinear, C=1438.44988828766, total=   0.0s\n",
      "[CV] solver=liblinear, C=1438.44988828766 ............................\n",
      "[CV] ............. solver=liblinear, C=1438.44988828766, total=   0.0s\n",
      "[CV] solver=liblinear, C=1438.44988828766 ............................\n",
      "[CV] ............. solver=liblinear, C=1438.44988828766, total=   0.0s\n",
      "[CV] solver=liblinear, C=1438.44988828766 ............................\n",
      "[CV] ............. solver=liblinear, C=1438.44988828766, total=   0.0s\n",
      "[CV] solver=liblinear, C=3792.690190732246 ...........................\n",
      "[CV] ............ solver=liblinear, C=3792.690190732246, total=   0.0s\n",
      "[CV] solver=liblinear, C=3792.690190732246 ...........................\n",
      "[CV] ............ solver=liblinear, C=3792.690190732246, total=   0.0s\n",
      "[CV] solver=liblinear, C=3792.690190732246 ...........................\n",
      "[CV] ............ solver=liblinear, C=3792.690190732246, total=   0.0s\n",
      "[CV] solver=liblinear, C=3792.690190732246 ...........................\n",
      "[CV] ............ solver=liblinear, C=3792.690190732246, total=   0.0s\n",
      "[CV] solver=liblinear, C=3792.690190732246 ...........................\n",
      "[CV] ............ solver=liblinear, C=3792.690190732246, total=   0.0s\n",
      "[CV] solver=liblinear, C=10000.0 .....................................\n",
      "[CV] ...................... solver=liblinear, C=10000.0, total=   0.0s\n",
      "[CV] solver=liblinear, C=10000.0 .....................................\n",
      "[CV] ...................... solver=liblinear, C=10000.0, total=   0.0s\n",
      "[CV] solver=liblinear, C=10000.0 .....................................\n",
      "[CV] ...................... solver=liblinear, C=10000.0, total=   0.0s\n",
      "[CV] solver=liblinear, C=10000.0 .....................................\n",
      "[CV] ...................... solver=liblinear, C=10000.0, total=   0.0s\n",
      "[CV] solver=liblinear, C=10000.0 .....................................\n",
      "[CV] ...................... solver=liblinear, C=10000.0, total=   0.0s\n"
     ]
    },
    {
     "name": "stderr",
     "output_type": "stream",
     "text": [
      "[Parallel(n_jobs=1)]: Done 100 out of 100 | elapsed:    0.7s finished\n"
     ]
    },
    {
     "data": {
      "text/plain": [
       "RandomizedSearchCV(cv=5, estimator=LogisticRegression(), n_iter=20,\n",
       "                   param_distributions={'C': array([1.00000000e-04, 2.63665090e-04, 6.95192796e-04, 1.83298071e-03,\n",
       "       4.83293024e-03, 1.27427499e-02, 3.35981829e-02, 8.85866790e-02,\n",
       "       2.33572147e-01, 6.15848211e-01, 1.62377674e+00, 4.28133240e+00,\n",
       "       1.12883789e+01, 2.97635144e+01, 7.84759970e+01, 2.06913808e+02,\n",
       "       5.45559478e+02, 1.43844989e+03, 3.79269019e+03, 1.00000000e+04]),\n",
       "                                        'solver': ['liblinear']},\n",
       "                   verbose=2)"
      ]
     },
     "execution_count": 51,
     "metadata": {},
     "output_type": "execute_result"
    }
   ],
   "source": [
    "# tune Logistic Regression\n",
    "np.random.seed(42)\n",
    "log_reg_rs = RandomizedSearchCV(estimator = LogisticRegression(),\n",
    "                            param_distributions=log_reg_grid,\n",
    "                            cv = 5,\n",
    "                            n_iter=20,\n",
    "                            verbose = 2)\n",
    "log_reg_rs.fit(X_train, y_train)"
   ]
  },
  {
   "cell_type": "code",
   "execution_count": 52,
   "metadata": {},
   "outputs": [
    {
     "data": {
      "text/plain": [
       "{'solver': 'liblinear', 'C': 0.23357214690901212}"
      ]
     },
     "execution_count": 52,
     "metadata": {},
     "output_type": "execute_result"
    }
   ],
   "source": [
    "log_reg_rs.best_params_"
   ]
  },
  {
   "cell_type": "code",
   "execution_count": 53,
   "metadata": {},
   "outputs": [
    {
     "data": {
      "text/plain": [
       "0.8852459016393442"
      ]
     },
     "execution_count": 53,
     "metadata": {},
     "output_type": "execute_result"
    }
   ],
   "source": [
    "log_reg_rs.score(X_test,y_test)"
   ]
  },
  {
   "cell_type": "code",
   "execution_count": 54,
   "metadata": {},
   "outputs": [],
   "source": [
    "# tune Random Forest Classifier\n",
    "np.random.seed(42)\n",
    "\n",
    "rf_clf_rs = RandomizedSearchCV(RandomForestClassifier(),\n",
    "                              param_distributions=rf_clf_grid,\n",
    "                              cv=5,\n",
    "                              n_iter=20,\n",
    "                              verbose=2)"
   ]
  },
  {
   "cell_type": "code",
   "execution_count": 55,
   "metadata": {
    "scrolled": true
   },
   "outputs": [
    {
     "name": "stdout",
     "output_type": "stream",
     "text": [
      "Fitting 5 folds for each of 20 candidates, totalling 100 fits\n",
      "[CV] n_estimators=10, min_samples_split=16, min_samples_leaf=9, max_depth=None \n",
      "[CV]  n_estimators=10, min_samples_split=16, min_samples_leaf=9, max_depth=None, total=   0.0s\n",
      "[CV] n_estimators=10, min_samples_split=16, min_samples_leaf=9, max_depth=None \n",
      "[CV]  n_estimators=10, min_samples_split=16, min_samples_leaf=9, max_depth=None, total=   0.0s\n",
      "[CV] n_estimators=10, min_samples_split=16, min_samples_leaf=9, max_depth=None \n",
      "[CV]  n_estimators=10, min_samples_split=16, min_samples_leaf=9, max_depth=None, total=   0.0s\n",
      "[CV] n_estimators=10, min_samples_split=16, min_samples_leaf=9, max_depth=None \n",
      "[CV]  n_estimators=10, min_samples_split=16, min_samples_leaf=9, max_depth=None, total=   0.0s\n",
      "[CV] n_estimators=10, min_samples_split=16, min_samples_leaf=9, max_depth=None \n",
      "[CV]  n_estimators=10, min_samples_split=16, min_samples_leaf=9, max_depth=None, total=   0.0s\n",
      "[CV] n_estimators=510, min_samples_split=18, min_samples_leaf=19, max_depth=5 \n"
     ]
    },
    {
     "name": "stderr",
     "output_type": "stream",
     "text": [
      "[Parallel(n_jobs=1)]: Using backend SequentialBackend with 1 concurrent workers.\n",
      "[Parallel(n_jobs=1)]: Done   1 out of   1 | elapsed:    0.0s remaining:    0.0s\n"
     ]
    },
    {
     "name": "stdout",
     "output_type": "stream",
     "text": [
      "[CV]  n_estimators=510, min_samples_split=18, min_samples_leaf=19, max_depth=5, total=   0.9s\n",
      "[CV] n_estimators=510, min_samples_split=18, min_samples_leaf=19, max_depth=5 \n",
      "[CV]  n_estimators=510, min_samples_split=18, min_samples_leaf=19, max_depth=5, total=   0.8s\n",
      "[CV] n_estimators=510, min_samples_split=18, min_samples_leaf=19, max_depth=5 \n",
      "[CV]  n_estimators=510, min_samples_split=18, min_samples_leaf=19, max_depth=5, total=   0.9s\n",
      "[CV] n_estimators=510, min_samples_split=18, min_samples_leaf=19, max_depth=5 \n",
      "[CV]  n_estimators=510, min_samples_split=18, min_samples_leaf=19, max_depth=5, total=   0.9s\n",
      "[CV] n_estimators=510, min_samples_split=18, min_samples_leaf=19, max_depth=5 \n",
      "[CV]  n_estimators=510, min_samples_split=18, min_samples_leaf=19, max_depth=5, total=   0.8s\n",
      "[CV] n_estimators=310, min_samples_split=2, min_samples_leaf=19, max_depth=5 \n",
      "[CV]  n_estimators=310, min_samples_split=2, min_samples_leaf=19, max_depth=5, total=   0.5s\n",
      "[CV] n_estimators=310, min_samples_split=2, min_samples_leaf=19, max_depth=5 \n",
      "[CV]  n_estimators=310, min_samples_split=2, min_samples_leaf=19, max_depth=5, total=   0.5s\n",
      "[CV] n_estimators=310, min_samples_split=2, min_samples_leaf=19, max_depth=5 \n",
      "[CV]  n_estimators=310, min_samples_split=2, min_samples_leaf=19, max_depth=5, total=   0.5s\n",
      "[CV] n_estimators=310, min_samples_split=2, min_samples_leaf=19, max_depth=5 \n",
      "[CV]  n_estimators=310, min_samples_split=2, min_samples_leaf=19, max_depth=5, total=   0.5s\n",
      "[CV] n_estimators=310, min_samples_split=2, min_samples_leaf=19, max_depth=5 \n",
      "[CV]  n_estimators=310, min_samples_split=2, min_samples_leaf=19, max_depth=5, total=   0.5s\n",
      "[CV] n_estimators=560, min_samples_split=16, min_samples_leaf=17, max_depth=5 \n",
      "[CV]  n_estimators=560, min_samples_split=16, min_samples_leaf=17, max_depth=5, total=   0.9s\n",
      "[CV] n_estimators=560, min_samples_split=16, min_samples_leaf=17, max_depth=5 \n",
      "[CV]  n_estimators=560, min_samples_split=16, min_samples_leaf=17, max_depth=5, total=   1.0s\n",
      "[CV] n_estimators=560, min_samples_split=16, min_samples_leaf=17, max_depth=5 \n",
      "[CV]  n_estimators=560, min_samples_split=16, min_samples_leaf=17, max_depth=5, total=   1.0s\n",
      "[CV] n_estimators=560, min_samples_split=16, min_samples_leaf=17, max_depth=5 \n",
      "[CV]  n_estimators=560, min_samples_split=16, min_samples_leaf=17, max_depth=5, total=   1.1s\n",
      "[CV] n_estimators=560, min_samples_split=16, min_samples_leaf=17, max_depth=5 \n",
      "[CV]  n_estimators=560, min_samples_split=16, min_samples_leaf=17, max_depth=5, total=   1.1s\n",
      "[CV] n_estimators=610, min_samples_split=18, min_samples_leaf=1, max_depth=5 \n",
      "[CV]  n_estimators=610, min_samples_split=18, min_samples_leaf=1, max_depth=5, total=   1.2s\n",
      "[CV] n_estimators=610, min_samples_split=18, min_samples_leaf=1, max_depth=5 \n",
      "[CV]  n_estimators=610, min_samples_split=18, min_samples_leaf=1, max_depth=5, total=   1.1s\n",
      "[CV] n_estimators=610, min_samples_split=18, min_samples_leaf=1, max_depth=5 \n",
      "[CV]  n_estimators=610, min_samples_split=18, min_samples_leaf=1, max_depth=5, total=   1.0s\n",
      "[CV] n_estimators=610, min_samples_split=18, min_samples_leaf=1, max_depth=5 \n",
      "[CV]  n_estimators=610, min_samples_split=18, min_samples_leaf=1, max_depth=5, total=   1.0s\n",
      "[CV] n_estimators=610, min_samples_split=18, min_samples_leaf=1, max_depth=5 \n",
      "[CV]  n_estimators=610, min_samples_split=18, min_samples_leaf=1, max_depth=5, total=   1.0s\n",
      "[CV] n_estimators=610, min_samples_split=4, min_samples_leaf=15, max_depth=3 \n",
      "[CV]  n_estimators=610, min_samples_split=4, min_samples_leaf=15, max_depth=3, total=   0.9s\n",
      "[CV] n_estimators=610, min_samples_split=4, min_samples_leaf=15, max_depth=3 \n",
      "[CV]  n_estimators=610, min_samples_split=4, min_samples_leaf=15, max_depth=3, total=   1.0s\n",
      "[CV] n_estimators=610, min_samples_split=4, min_samples_leaf=15, max_depth=3 \n",
      "[CV]  n_estimators=610, min_samples_split=4, min_samples_leaf=15, max_depth=3, total=   1.0s\n",
      "[CV] n_estimators=610, min_samples_split=4, min_samples_leaf=15, max_depth=3 \n",
      "[CV]  n_estimators=610, min_samples_split=4, min_samples_leaf=15, max_depth=3, total=   1.0s\n",
      "[CV] n_estimators=610, min_samples_split=4, min_samples_leaf=15, max_depth=3 \n",
      "[CV]  n_estimators=610, min_samples_split=4, min_samples_leaf=15, max_depth=3, total=   1.0s\n",
      "[CV] n_estimators=710, min_samples_split=16, min_samples_leaf=3, max_depth=10 \n",
      "[CV]  n_estimators=710, min_samples_split=16, min_samples_leaf=3, max_depth=10, total=   1.1s\n",
      "[CV] n_estimators=710, min_samples_split=16, min_samples_leaf=3, max_depth=10 \n",
      "[CV]  n_estimators=710, min_samples_split=16, min_samples_leaf=3, max_depth=10, total=   1.1s\n",
      "[CV] n_estimators=710, min_samples_split=16, min_samples_leaf=3, max_depth=10 \n",
      "[CV]  n_estimators=710, min_samples_split=16, min_samples_leaf=3, max_depth=10, total=   1.2s\n",
      "[CV] n_estimators=710, min_samples_split=16, min_samples_leaf=3, max_depth=10 \n",
      "[CV]  n_estimators=710, min_samples_split=16, min_samples_leaf=3, max_depth=10, total=   1.2s\n",
      "[CV] n_estimators=710, min_samples_split=16, min_samples_leaf=3, max_depth=10 \n",
      "[CV]  n_estimators=710, min_samples_split=16, min_samples_leaf=3, max_depth=10, total=   1.1s\n",
      "[CV] n_estimators=260, min_samples_split=16, min_samples_leaf=9, max_depth=10 \n",
      "[CV]  n_estimators=260, min_samples_split=16, min_samples_leaf=9, max_depth=10, total=   0.4s\n",
      "[CV] n_estimators=260, min_samples_split=16, min_samples_leaf=9, max_depth=10 \n",
      "[CV]  n_estimators=260, min_samples_split=16, min_samples_leaf=9, max_depth=10, total=   0.4s\n",
      "[CV] n_estimators=260, min_samples_split=16, min_samples_leaf=9, max_depth=10 \n",
      "[CV]  n_estimators=260, min_samples_split=16, min_samples_leaf=9, max_depth=10, total=   0.4s\n",
      "[CV] n_estimators=260, min_samples_split=16, min_samples_leaf=9, max_depth=10 \n",
      "[CV]  n_estimators=260, min_samples_split=16, min_samples_leaf=9, max_depth=10, total=   0.4s\n",
      "[CV] n_estimators=260, min_samples_split=16, min_samples_leaf=9, max_depth=10 \n",
      "[CV]  n_estimators=260, min_samples_split=16, min_samples_leaf=9, max_depth=10, total=   0.4s\n",
      "[CV] n_estimators=310, min_samples_split=12, min_samples_leaf=5, max_depth=None \n",
      "[CV]  n_estimators=310, min_samples_split=12, min_samples_leaf=5, max_depth=None, total=   0.5s\n",
      "[CV] n_estimators=310, min_samples_split=12, min_samples_leaf=5, max_depth=None \n",
      "[CV]  n_estimators=310, min_samples_split=12, min_samples_leaf=5, max_depth=None, total=   0.5s\n",
      "[CV] n_estimators=310, min_samples_split=12, min_samples_leaf=5, max_depth=None \n",
      "[CV]  n_estimators=310, min_samples_split=12, min_samples_leaf=5, max_depth=None, total=   0.5s\n",
      "[CV] n_estimators=310, min_samples_split=12, min_samples_leaf=5, max_depth=None \n",
      "[CV]  n_estimators=310, min_samples_split=12, min_samples_leaf=5, max_depth=None, total=   0.5s\n",
      "[CV] n_estimators=310, min_samples_split=12, min_samples_leaf=5, max_depth=None \n",
      "[CV]  n_estimators=310, min_samples_split=12, min_samples_leaf=5, max_depth=None, total=   0.5s\n",
      "[CV] n_estimators=710, min_samples_split=12, min_samples_leaf=19, max_depth=5 \n",
      "[CV]  n_estimators=710, min_samples_split=12, min_samples_leaf=19, max_depth=5, total=   1.1s\n",
      "[CV] n_estimators=710, min_samples_split=12, min_samples_leaf=19, max_depth=5 \n",
      "[CV]  n_estimators=710, min_samples_split=12, min_samples_leaf=19, max_depth=5, total=   1.2s\n",
      "[CV] n_estimators=710, min_samples_split=12, min_samples_leaf=19, max_depth=5 \n",
      "[CV]  n_estimators=710, min_samples_split=12, min_samples_leaf=19, max_depth=5, total=   1.1s\n",
      "[CV] n_estimators=710, min_samples_split=12, min_samples_leaf=19, max_depth=5 \n",
      "[CV]  n_estimators=710, min_samples_split=12, min_samples_leaf=19, max_depth=5, total=   1.1s\n",
      "[CV] n_estimators=710, min_samples_split=12, min_samples_leaf=19, max_depth=5 \n",
      "[CV]  n_estimators=710, min_samples_split=12, min_samples_leaf=19, max_depth=5, total=   1.1s\n",
      "[CV] n_estimators=310, min_samples_split=12, min_samples_leaf=9, max_depth=5 \n",
      "[CV]  n_estimators=310, min_samples_split=12, min_samples_leaf=9, max_depth=5, total=   0.5s\n",
      "[CV] n_estimators=310, min_samples_split=12, min_samples_leaf=9, max_depth=5 \n",
      "[CV]  n_estimators=310, min_samples_split=12, min_samples_leaf=9, max_depth=5, total=   0.5s\n",
      "[CV] n_estimators=310, min_samples_split=12, min_samples_leaf=9, max_depth=5 \n",
      "[CV]  n_estimators=310, min_samples_split=12, min_samples_leaf=9, max_depth=5, total=   0.5s\n",
      "[CV] n_estimators=310, min_samples_split=12, min_samples_leaf=9, max_depth=5 \n"
     ]
    },
    {
     "name": "stdout",
     "output_type": "stream",
     "text": [
      "[CV]  n_estimators=310, min_samples_split=12, min_samples_leaf=9, max_depth=5, total=   0.5s\n",
      "[CV] n_estimators=310, min_samples_split=12, min_samples_leaf=9, max_depth=5 \n",
      "[CV]  n_estimators=310, min_samples_split=12, min_samples_leaf=9, max_depth=5, total=   0.5s\n",
      "[CV] n_estimators=910, min_samples_split=18, min_samples_leaf=1, max_depth=10 \n",
      "[CV]  n_estimators=910, min_samples_split=18, min_samples_leaf=1, max_depth=10, total=   1.4s\n",
      "[CV] n_estimators=910, min_samples_split=18, min_samples_leaf=1, max_depth=10 \n",
      "[CV]  n_estimators=910, min_samples_split=18, min_samples_leaf=1, max_depth=10, total=   1.4s\n",
      "[CV] n_estimators=910, min_samples_split=18, min_samples_leaf=1, max_depth=10 \n",
      "[CV]  n_estimators=910, min_samples_split=18, min_samples_leaf=1, max_depth=10, total=   1.4s\n",
      "[CV] n_estimators=910, min_samples_split=18, min_samples_leaf=1, max_depth=10 \n",
      "[CV]  n_estimators=910, min_samples_split=18, min_samples_leaf=1, max_depth=10, total=   1.4s\n",
      "[CV] n_estimators=910, min_samples_split=18, min_samples_leaf=1, max_depth=10 \n",
      "[CV]  n_estimators=910, min_samples_split=18, min_samples_leaf=1, max_depth=10, total=   1.4s\n",
      "[CV] n_estimators=560, min_samples_split=12, min_samples_leaf=9, max_depth=10 \n",
      "[CV]  n_estimators=560, min_samples_split=12, min_samples_leaf=9, max_depth=10, total=   0.9s\n",
      "[CV] n_estimators=560, min_samples_split=12, min_samples_leaf=9, max_depth=10 \n",
      "[CV]  n_estimators=560, min_samples_split=12, min_samples_leaf=9, max_depth=10, total=   0.9s\n",
      "[CV] n_estimators=560, min_samples_split=12, min_samples_leaf=9, max_depth=10 \n",
      "[CV]  n_estimators=560, min_samples_split=12, min_samples_leaf=9, max_depth=10, total=   0.9s\n",
      "[CV] n_estimators=560, min_samples_split=12, min_samples_leaf=9, max_depth=10 \n",
      "[CV]  n_estimators=560, min_samples_split=12, min_samples_leaf=9, max_depth=10, total=   0.9s\n",
      "[CV] n_estimators=560, min_samples_split=12, min_samples_leaf=9, max_depth=10 \n",
      "[CV]  n_estimators=560, min_samples_split=12, min_samples_leaf=9, max_depth=10, total=   0.9s\n",
      "[CV] n_estimators=210, min_samples_split=4, min_samples_leaf=19, max_depth=3 \n",
      "[CV]  n_estimators=210, min_samples_split=4, min_samples_leaf=19, max_depth=3, total=   0.3s\n",
      "[CV] n_estimators=210, min_samples_split=4, min_samples_leaf=19, max_depth=3 \n",
      "[CV]  n_estimators=210, min_samples_split=4, min_samples_leaf=19, max_depth=3, total=   0.3s\n",
      "[CV] n_estimators=210, min_samples_split=4, min_samples_leaf=19, max_depth=3 \n",
      "[CV]  n_estimators=210, min_samples_split=4, min_samples_leaf=19, max_depth=3, total=   0.3s\n",
      "[CV] n_estimators=210, min_samples_split=4, min_samples_leaf=19, max_depth=3 \n",
      "[CV]  n_estimators=210, min_samples_split=4, min_samples_leaf=19, max_depth=3, total=   0.3s\n",
      "[CV] n_estimators=210, min_samples_split=4, min_samples_leaf=19, max_depth=3 \n",
      "[CV]  n_estimators=210, min_samples_split=4, min_samples_leaf=19, max_depth=3, total=   0.3s\n",
      "[CV] n_estimators=560, min_samples_split=12, min_samples_leaf=15, max_depth=3 \n",
      "[CV]  n_estimators=560, min_samples_split=12, min_samples_leaf=15, max_depth=3, total=   0.9s\n",
      "[CV] n_estimators=560, min_samples_split=12, min_samples_leaf=15, max_depth=3 \n",
      "[CV]  n_estimators=560, min_samples_split=12, min_samples_leaf=15, max_depth=3, total=   1.0s\n",
      "[CV] n_estimators=560, min_samples_split=12, min_samples_leaf=15, max_depth=3 \n",
      "[CV]  n_estimators=560, min_samples_split=12, min_samples_leaf=15, max_depth=3, total=   1.1s\n",
      "[CV] n_estimators=560, min_samples_split=12, min_samples_leaf=15, max_depth=3 \n",
      "[CV]  n_estimators=560, min_samples_split=12, min_samples_leaf=15, max_depth=3, total=   1.2s\n",
      "[CV] n_estimators=560, min_samples_split=12, min_samples_leaf=15, max_depth=3 \n",
      "[CV]  n_estimators=560, min_samples_split=12, min_samples_leaf=15, max_depth=3, total=   1.1s\n",
      "[CV] n_estimators=960, min_samples_split=4, min_samples_leaf=13, max_depth=3 \n",
      "[CV]  n_estimators=960, min_samples_split=4, min_samples_leaf=13, max_depth=3, total=   1.9s\n",
      "[CV] n_estimators=960, min_samples_split=4, min_samples_leaf=13, max_depth=3 \n",
      "[CV]  n_estimators=960, min_samples_split=4, min_samples_leaf=13, max_depth=3, total=   1.8s\n",
      "[CV] n_estimators=960, min_samples_split=4, min_samples_leaf=13, max_depth=3 \n",
      "[CV]  n_estimators=960, min_samples_split=4, min_samples_leaf=13, max_depth=3, total=   1.5s\n",
      "[CV] n_estimators=960, min_samples_split=4, min_samples_leaf=13, max_depth=3 \n",
      "[CV]  n_estimators=960, min_samples_split=4, min_samples_leaf=13, max_depth=3, total=   1.5s\n",
      "[CV] n_estimators=960, min_samples_split=4, min_samples_leaf=13, max_depth=3 \n",
      "[CV]  n_estimators=960, min_samples_split=4, min_samples_leaf=13, max_depth=3, total=   1.5s\n",
      "[CV] n_estimators=510, min_samples_split=14, min_samples_leaf=1, max_depth=None \n",
      "[CV]  n_estimators=510, min_samples_split=14, min_samples_leaf=1, max_depth=None, total=   0.8s\n",
      "[CV] n_estimators=510, min_samples_split=14, min_samples_leaf=1, max_depth=None \n",
      "[CV]  n_estimators=510, min_samples_split=14, min_samples_leaf=1, max_depth=None, total=   0.8s\n",
      "[CV] n_estimators=510, min_samples_split=14, min_samples_leaf=1, max_depth=None \n",
      "[CV]  n_estimators=510, min_samples_split=14, min_samples_leaf=1, max_depth=None, total=   0.8s\n",
      "[CV] n_estimators=510, min_samples_split=14, min_samples_leaf=1, max_depth=None \n",
      "[CV]  n_estimators=510, min_samples_split=14, min_samples_leaf=1, max_depth=None, total=   0.8s\n",
      "[CV] n_estimators=510, min_samples_split=14, min_samples_leaf=1, max_depth=None \n",
      "[CV]  n_estimators=510, min_samples_split=14, min_samples_leaf=1, max_depth=None, total=   0.8s\n",
      "[CV] n_estimators=260, min_samples_split=8, min_samples_leaf=19, max_depth=None \n",
      "[CV]  n_estimators=260, min_samples_split=8, min_samples_leaf=19, max_depth=None, total=   0.4s\n",
      "[CV] n_estimators=260, min_samples_split=8, min_samples_leaf=19, max_depth=None \n",
      "[CV]  n_estimators=260, min_samples_split=8, min_samples_leaf=19, max_depth=None, total=   0.4s\n",
      "[CV] n_estimators=260, min_samples_split=8, min_samples_leaf=19, max_depth=None \n",
      "[CV]  n_estimators=260, min_samples_split=8, min_samples_leaf=19, max_depth=None, total=   0.5s\n",
      "[CV] n_estimators=260, min_samples_split=8, min_samples_leaf=19, max_depth=None \n",
      "[CV]  n_estimators=260, min_samples_split=8, min_samples_leaf=19, max_depth=None, total=   0.5s\n",
      "[CV] n_estimators=260, min_samples_split=8, min_samples_leaf=19, max_depth=None \n",
      "[CV]  n_estimators=260, min_samples_split=8, min_samples_leaf=19, max_depth=None, total=   0.4s\n",
      "[CV] n_estimators=460, min_samples_split=6, min_samples_leaf=9, max_depth=None \n",
      "[CV]  n_estimators=460, min_samples_split=6, min_samples_leaf=9, max_depth=None, total=   0.8s\n",
      "[CV] n_estimators=460, min_samples_split=6, min_samples_leaf=9, max_depth=None \n",
      "[CV]  n_estimators=460, min_samples_split=6, min_samples_leaf=9, max_depth=None, total=   0.7s\n",
      "[CV] n_estimators=460, min_samples_split=6, min_samples_leaf=9, max_depth=None \n",
      "[CV]  n_estimators=460, min_samples_split=6, min_samples_leaf=9, max_depth=None, total=   0.8s\n",
      "[CV] n_estimators=460, min_samples_split=6, min_samples_leaf=9, max_depth=None \n",
      "[CV]  n_estimators=460, min_samples_split=6, min_samples_leaf=9, max_depth=None, total=   0.8s\n",
      "[CV] n_estimators=460, min_samples_split=6, min_samples_leaf=9, max_depth=None \n",
      "[CV]  n_estimators=460, min_samples_split=6, min_samples_leaf=9, max_depth=None, total=   0.7s\n",
      "[CV] n_estimators=560, min_samples_split=6, min_samples_leaf=7, max_depth=3 \n",
      "[CV]  n_estimators=560, min_samples_split=6, min_samples_leaf=7, max_depth=3, total=   0.9s\n",
      "[CV] n_estimators=560, min_samples_split=6, min_samples_leaf=7, max_depth=3 \n",
      "[CV]  n_estimators=560, min_samples_split=6, min_samples_leaf=7, max_depth=3, total=   1.0s\n",
      "[CV] n_estimators=560, min_samples_split=6, min_samples_leaf=7, max_depth=3 \n",
      "[CV]  n_estimators=560, min_samples_split=6, min_samples_leaf=7, max_depth=3, total=   0.9s\n",
      "[CV] n_estimators=560, min_samples_split=6, min_samples_leaf=7, max_depth=3 \n",
      "[CV]  n_estimators=560, min_samples_split=6, min_samples_leaf=7, max_depth=3, total=   0.9s\n",
      "[CV] n_estimators=560, min_samples_split=6, min_samples_leaf=7, max_depth=3 \n",
      "[CV]  n_estimators=560, min_samples_split=6, min_samples_leaf=7, max_depth=3, total=   0.9s\n"
     ]
    },
    {
     "name": "stderr",
     "output_type": "stream",
     "text": [
      "[Parallel(n_jobs=1)]: Done 100 out of 100 | elapsed:  1.4min finished\n"
     ]
    },
    {
     "data": {
      "text/plain": [
       "RandomizedSearchCV(cv=5, estimator=RandomForestClassifier(), n_iter=20,\n",
       "                   param_distributions={'max_depth': [None, 3, 5, 10],\n",
       "                                        'min_samples_leaf': array([ 1,  3,  5,  7,  9, 11, 13, 15, 17, 19]),\n",
       "                                        'min_samples_split': array([ 2,  4,  6,  8, 10, 12, 14, 16, 18]),\n",
       "                                        'n_estimators': array([ 10,  60, 110, 160, 210, 260, 310, 360, 410, 460, 510, 560, 610,\n",
       "       660, 710, 760, 810, 860, 910, 960])},\n",
       "                   verbose=2)"
      ]
     },
     "execution_count": 55,
     "metadata": {},
     "output_type": "execute_result"
    }
   ],
   "source": [
    "rf_clf_rs.fit(X_train,y_train)"
   ]
  },
  {
   "cell_type": "code",
   "execution_count": 56,
   "metadata": {},
   "outputs": [
    {
     "data": {
      "text/plain": [
       "0.8688524590163934"
      ]
     },
     "execution_count": 56,
     "metadata": {},
     "output_type": "execute_result"
    }
   ],
   "source": [
    "rf_clf_rs.score(X_test,y_test)"
   ]
  },
  {
   "cell_type": "code",
   "execution_count": 57,
   "metadata": {},
   "outputs": [
    {
     "data": {
      "text/plain": [
       "{'n_estimators': 210,\n",
       " 'min_samples_split': 4,\n",
       " 'min_samples_leaf': 19,\n",
       " 'max_depth': 3}"
      ]
     },
     "execution_count": 57,
     "metadata": {},
     "output_type": "execute_result"
    }
   ],
   "source": [
    "rf_clf_rs.best_params_"
   ]
  },
  {
   "cell_type": "code",
   "execution_count": 58,
   "metadata": {},
   "outputs": [
    {
     "data": {
      "text/plain": [
       "{'Logistic Regression': 0.8852459016393442,\n",
       " 'KNeighbors Classifier': 0.6885245901639344,\n",
       " 'RandomForestClassifer': 0.8360655737704918}"
      ]
     },
     "execution_count": 58,
     "metadata": {},
     "output_type": "execute_result"
    }
   ],
   "source": [
    "model_scores"
   ]
  },
  {
   "cell_type": "markdown",
   "metadata": {},
   "source": [
    "### Hyperparameters tuning using GridSearchCV"
   ]
  },
  {
   "cell_type": "code",
   "execution_count": 65,
   "metadata": {},
   "outputs": [],
   "source": [
    "# hyperparameter grid for Logistic Regression\n",
    "log_reg_gs_grid = {'C': np.logspace(-4,3,20),\n",
    "                   'solver':['liblinear']}\n"
   ]
  },
  {
   "cell_type": "code",
   "execution_count": 66,
   "metadata": {},
   "outputs": [],
   "source": [
    "np.random.seed(42)\n",
    "log_reg_gs = GridSearchCV(LogisticRegression(),\n",
    "                          param_grid=log_reg_gs_grid,\n",
    "                          cv=5,\n",
    "                          verbose= True)"
   ]
  },
  {
   "cell_type": "code",
   "execution_count": 67,
   "metadata": {},
   "outputs": [
    {
     "name": "stdout",
     "output_type": "stream",
     "text": [
      "Fitting 5 folds for each of 20 candidates, totalling 100 fits\n"
     ]
    },
    {
     "name": "stderr",
     "output_type": "stream",
     "text": [
      "[Parallel(n_jobs=1)]: Using backend SequentialBackend with 1 concurrent workers.\n",
      "[Parallel(n_jobs=1)]: Done 100 out of 100 | elapsed:    0.6s finished\n"
     ]
    },
    {
     "data": {
      "text/plain": [
       "GridSearchCV(cv=5, estimator=LogisticRegression(),\n",
       "             param_grid={'C': array([1.00000000e-04, 2.33572147e-04, 5.45559478e-04, 1.27427499e-03,\n",
       "       2.97635144e-03, 6.95192796e-03, 1.62377674e-02, 3.79269019e-02,\n",
       "       8.85866790e-02, 2.06913808e-01, 4.83293024e-01, 1.12883789e+00,\n",
       "       2.63665090e+00, 6.15848211e+00, 1.43844989e+01, 3.35981829e+01,\n",
       "       7.84759970e+01, 1.83298071e+02, 4.28133240e+02, 1.00000000e+03]),\n",
       "                         'solver': ['liblinear']},\n",
       "             verbose=True)"
      ]
     },
     "execution_count": 67,
     "metadata": {},
     "output_type": "execute_result"
    }
   ],
   "source": [
    "log_reg_gs.fit(X_train,y_train)"
   ]
  },
  {
   "cell_type": "code",
   "execution_count": 68,
   "metadata": {},
   "outputs": [
    {
     "data": {
      "text/plain": [
       "{'C': 0.2069138081114788, 'solver': 'liblinear'}"
      ]
     },
     "execution_count": 68,
     "metadata": {},
     "output_type": "execute_result"
    }
   ],
   "source": [
    "log_reg_gs.best_params_"
   ]
  },
  {
   "cell_type": "code",
   "execution_count": 69,
   "metadata": {},
   "outputs": [
    {
     "data": {
      "text/plain": [
       "0.859504132231405"
      ]
     },
     "execution_count": 69,
     "metadata": {},
     "output_type": "execute_result"
    }
   ],
   "source": [
    "log_reg_gs.score(X_train, y_train)"
   ]
  },
  {
   "cell_type": "code",
   "execution_count": 70,
   "metadata": {},
   "outputs": [
    {
     "data": {
      "text/plain": [
       "{'Logistic Regression': 0.8852459016393442,\n",
       " 'KNeighbors Classifier': 0.6885245901639344,\n",
       " 'RandomForestClassifer': 0.8360655737704918}"
      ]
     },
     "execution_count": 70,
     "metadata": {},
     "output_type": "execute_result"
    }
   ],
   "source": [
    "model_scores"
   ]
  },
  {
   "cell_type": "markdown",
   "metadata": {},
   "source": [
    "## Evaluate the tuned machine learning classifier\n",
    "\n",
    "* ROC curve and AUC score\n",
    "* Confusion Matrix\n",
    "* Classification report\n",
    "* Precision\n",
    "* Recall\n",
    "* F1-score"
   ]
  },
  {
   "cell_type": "code",
   "execution_count": 72,
   "metadata": {},
   "outputs": [
    {
     "data": {
      "text/plain": [
       "0.8852459016393442"
      ]
     },
     "execution_count": 72,
     "metadata": {},
     "output_type": "execute_result"
    }
   ],
   "source": [
    "log_reg_rs.score(X_test,y_test)"
   ]
  },
  {
   "cell_type": "code",
   "execution_count": 100,
   "metadata": {},
   "outputs": [
    {
     "data": {
      "text/plain": [
       "array([0, 1, 1, 0, 1, 1, 1, 0, 0, 1, 1, 0, 1, 0, 1, 1, 1, 0, 0, 0, 1, 0,\n",
       "       0, 1, 1, 1, 1, 1, 0, 1, 0, 0, 0, 0, 1, 0, 1, 1, 1, 1, 1, 1, 1, 1,\n",
       "       1, 0, 1, 1, 0, 0, 0, 0, 1, 1, 0, 0, 0, 1, 0, 0, 0])"
      ]
     },
     "execution_count": 100,
     "metadata": {},
     "output_type": "execute_result"
    }
   ],
   "source": [
    "# make prediction with tuned model\n",
    "y_preds = log_reg_rs.predict(X_test)\n",
    "y_preds"
   ]
  },
  {
   "cell_type": "code",
   "execution_count": 101,
   "metadata": {},
   "outputs": [
    {
     "data": {
      "image/png": "[encoded data removed]",
      "text/plain": [
       "<Figure size 432x288 with 1 Axes>"
      ]
     },
     "metadata": {
      "needs_background": "light"
     },
     "output_type": "display_data"
    }
   ],
   "source": [
    "# ROC curve\n",
    "plot_roc_curve(log_reg_rs, X_test,y_test );"
   ]
  },
  {
   "cell_type": "code",
   "execution_count": 102,
   "metadata": {},
   "outputs": [
    {
     "data": {
      "text/plain": [
       "<sklearn.metrics._plot.confusion_matrix.ConfusionMatrixDisplay at 0x119f78280>"
      ]
     },
     "execution_count": 102,
     "metadata": {},
     "output_type": "execute_result"
    },
    {
     "data": {
      "image/png": "[encoded data removed]",
      "text/plain": [
       "<Figure size 432x288 with 2 Axes>"
      ]
     },
     "metadata": {
      "needs_background": "light"
     },
     "output_type": "display_data"
    }
   ],
   "source": [
    "# Confusion Matric\n",
    "plot_confusion_matrix(log_reg_rs, X_test,y_test,cmap='Blues')"
   ]
  },
  {
   "cell_type": "code",
   "execution_count": 103,
   "metadata": {},
   "outputs": [
    {
     "name": "stdout",
     "output_type": "stream",
     "text": [
      "              precision    recall  f1-score   support\n",
      "\n",
      "           0       0.89      0.86      0.88        29\n",
      "           1       0.88      0.91      0.89        32\n",
      "\n",
      "    accuracy                           0.89        61\n",
      "   macro avg       0.89      0.88      0.88        61\n",
      "weighted avg       0.89      0.89      0.89        61\n",
      "\n"
     ]
    }
   ],
   "source": [
    "# Classification Report\n",
    "print(classification_report(y_test, y_preds))"
   ]
  },
  {
   "cell_type": "code",
   "execution_count": 104,
   "metadata": {},
   "outputs": [
    {
     "data": {
      "text/plain": [
       "{'solver': 'liblinear', 'C': 0.23357214690901212}"
      ]
     },
     "execution_count": 104,
     "metadata": {},
     "output_type": "execute_result"
    }
   ],
   "source": [
    "log_reg_rs.best_params_"
   ]
  },
  {
   "cell_type": "code",
   "execution_count": 105,
   "metadata": {},
   "outputs": [],
   "source": [
    "log_reg_best = LogisticRegression(C=0.23357214690901212,\n",
    "                                  solver = 'liblinear')"
   ]
  },
  {
   "cell_type": "code",
   "execution_count": 106,
   "metadata": {},
   "outputs": [
    {
     "data": {
      "text/plain": [
       "0.8852459016393442"
      ]
     },
     "execution_count": 106,
     "metadata": {},
     "output_type": "execute_result"
    }
   ],
   "source": [
    "log_reg_best.fit(X_train, y_train)\n",
    "log_reg_best.score(X_test, y_test)"
   ]
  },
  {
   "cell_type": "code",
   "execution_count": 125,
   "metadata": {},
   "outputs": [],
   "source": [
    "accuracy = cross_val_score(log_reg_best,\n",
    "                            X, \n",
    "                            y, \n",
    "                            cv=5,\n",
    "                            scoring='accuracy')\n",
    "accuracy = np.mean(accuracy)"
   ]
  },
  {
   "cell_type": "code",
   "execution_count": 126,
   "metadata": {},
   "outputs": [],
   "source": [
    "precision = cross_val_score(log_reg_best,\n",
    "                            X, \n",
    "                            y, \n",
    "                            cv=5,\n",
    "                            scoring='precision')\n",
    "precision = np.mean(precision)"
   ]
  },
  {
   "cell_type": "code",
   "execution_count": 127,
   "metadata": {},
   "outputs": [],
   "source": [
    "recall = cross_val_score(log_reg_best,\n",
    "                         X, \n",
    "                         y, \n",
    "                         cv=5,\n",
    "                         scoring='recall')\n",
    "recall = np.mean(recall)"
   ]
  },
  {
   "cell_type": "code",
   "execution_count": 128,
   "metadata": {},
   "outputs": [],
   "source": [
    "f1 = cross_val_score(log_reg_best,\n",
    "                     X, \n",
    "                     y, \n",
    "                     cv=5,\n",
    "                     scoring='f1')\n",
    "f1= np.mean(f1)"
   ]
  },
  {
   "cell_type": "code",
   "execution_count": 134,
   "metadata": {},
   "outputs": [],
   "source": [
    "cv_metrics= pd.DataFrame({'accuracy': accuracy,\n",
    "             'precision':precision,\n",
    "             'recall': recall,\n",
    "             'f1': f1},\n",
    "             index =[0])"
   ]
  },
  {
   "cell_type": "code",
   "execution_count": 140,
   "metadata": {},
   "outputs": [
    {
     "data": {
      "image/png": "[encoded data removed]",
      "text/plain": [
       "<Figure size 432x288 with 1 Axes>"
      ]
     },
     "metadata": {
      "needs_background": "light"
     },
     "output_type": "display_data"
    }
   ],
   "source": [
    "cv_metrics.T.plot.bar(title = 'Cross-validated classification metrics', legend =False)\n",
    "plt.xticks(rotation = True);"
   ]
  },
  {
   "cell_type": "markdown",
   "metadata": {},
   "source": [
    "# Feature Importance\n",
    "\n",
    "Which features contributed most to the outcomes of the model and how did they contribute?"
   ]
  },
  {
   "cell_type": "code",
   "execution_count": 145,
   "metadata": {},
   "outputs": [],
   "source": [
    "log_reg_best = LogisticRegression(C=0.23357214690901212,\n",
    "                                  solver = 'liblinear')\n",
    "log_reg_best.fit(X_train, y_train);\n"
   ]
  },
  {
   "cell_type": "code",
   "execution_count": 146,
   "metadata": {},
   "outputs": [
    {
     "data": {
      "text/plain": [
       "array([[ 0.00369922, -0.90424098,  0.67472823, -0.0116134 , -0.00170364,\n",
       "         0.04787687,  0.33490208,  0.02472938, -0.63120414, -0.57590996,\n",
       "         0.47095166, -0.65165344, -0.69984217]])"
      ]
     },
     "execution_count": 146,
     "metadata": {},
     "output_type": "execute_result"
    }
   ],
   "source": [
    "log_reg_best.coef_"
   ]
  },
  {
   "cell_type": "code",
   "execution_count": 149,
   "metadata": {},
   "outputs": [
    {
     "data": {
      "text/html": [
       "<div>\n",
       "<style scoped>\n",
       "    .dataframe tbody tr th:only-of-type {\n",
       "        vertical-align: middle;\n",
       "    }\n",
       "\n",
       "    .dataframe tbody tr th {\n",
       "        vertical-align: top;\n",
       "    }\n",
       "\n",
       "    .dataframe thead th {\n",
       "        text-align: right;\n",
       "    }\n",
       "</style>\n",
       "<table border=\"1\" class=\"dataframe\">\n",
       "  <thead>\n",
       "    <tr style=\"text-align: right;\">\n",
       "      <th></th>\n",
       "      <th>age</th>\n",
       "      <th>sex</th>\n",
       "      <th>cp</th>\n",
       "      <th>trestbps</th>\n",
       "      <th>chol</th>\n",
       "      <th>fbs</th>\n",
       "      <th>restecg</th>\n",
       "      <th>thalach</th>\n",
       "      <th>exang</th>\n",
       "      <th>oldpeak</th>\n",
       "      <th>slope</th>\n",
       "      <th>ca</th>\n",
       "      <th>thal</th>\n",
       "      <th>target</th>\n",
       "    </tr>\n",
       "  </thead>\n",
       "  <tbody>\n",
       "    <tr>\n",
       "      <th>0</th>\n",
       "      <td>63</td>\n",
       "      <td>1</td>\n",
       "      <td>3</td>\n",
       "      <td>145</td>\n",
       "      <td>233</td>\n",
       "      <td>1</td>\n",
       "      <td>0</td>\n",
       "      <td>150</td>\n",
       "      <td>0</td>\n",
       "      <td>2.3</td>\n",
       "      <td>0</td>\n",
       "      <td>0</td>\n",
       "      <td>1</td>\n",
       "      <td>1</td>\n",
       "    </tr>\n",
       "    <tr>\n",
       "      <th>1</th>\n",
       "      <td>37</td>\n",
       "      <td>1</td>\n",
       "      <td>2</td>\n",
       "      <td>130</td>\n",
       "      <td>250</td>\n",
       "      <td>0</td>\n",
       "      <td>1</td>\n",
       "      <td>187</td>\n",
       "      <td>0</td>\n",
       "      <td>3.5</td>\n",
       "      <td>0</td>\n",
       "      <td>0</td>\n",
       "      <td>2</td>\n",
       "      <td>1</td>\n",
       "    </tr>\n",
       "    <tr>\n",
       "      <th>2</th>\n",
       "      <td>41</td>\n",
       "      <td>0</td>\n",
       "      <td>1</td>\n",
       "      <td>130</td>\n",
       "      <td>204</td>\n",
       "      <td>0</td>\n",
       "      <td>0</td>\n",
       "      <td>172</td>\n",
       "      <td>0</td>\n",
       "      <td>1.4</td>\n",
       "      <td>2</td>\n",
       "      <td>0</td>\n",
       "      <td>2</td>\n",
       "      <td>1</td>\n",
       "    </tr>\n",
       "    <tr>\n",
       "      <th>3</th>\n",
       "      <td>56</td>\n",
       "      <td>1</td>\n",
       "      <td>1</td>\n",
       "      <td>120</td>\n",
       "      <td>236</td>\n",
       "      <td>0</td>\n",
       "      <td>1</td>\n",
       "      <td>178</td>\n",
       "      <td>0</td>\n",
       "      <td>0.8</td>\n",
       "      <td>2</td>\n",
       "      <td>0</td>\n",
       "      <td>2</td>\n",
       "      <td>1</td>\n",
       "    </tr>\n",
       "    <tr>\n",
       "      <th>4</th>\n",
       "      <td>57</td>\n",
       "      <td>0</td>\n",
       "      <td>0</td>\n",
       "      <td>120</td>\n",
       "      <td>354</td>\n",
       "      <td>0</td>\n",
       "      <td>1</td>\n",
       "      <td>163</td>\n",
       "      <td>1</td>\n",
       "      <td>0.6</td>\n",
       "      <td>2</td>\n",
       "      <td>0</td>\n",
       "      <td>2</td>\n",
       "      <td>1</td>\n",
       "    </tr>\n",
       "  </tbody>\n",
       "</table>\n",
       "</div>"
      ],
      "text/plain": [
       "   age  sex  cp  trestbps  chol  fbs  restecg  thalach  exang  oldpeak  slope  \\\n",
       "0   63    1   3       145   233    1        0      150      0      2.3      0   \n",
       "1   37    1   2       130   250    0        1      187      0      3.5      0   \n",
       "2   41    0   1       130   204    0        0      172      0      1.4      2   \n",
       "3   56    1   1       120   236    0        1      178      0      0.8      2   \n",
       "4   57    0   0       120   354    0        1      163      1      0.6      2   \n",
       "\n",
       "   ca  thal  target  \n",
       "0   0     1       1  \n",
       "1   0     2       1  \n",
       "2   0     2       1  \n",
       "3   0     2       1  \n",
       "4   0     2       1  "
      ]
     },
     "execution_count": 149,
     "metadata": {},
     "output_type": "execute_result"
    }
   ],
   "source": [
    "df.head()"
   ]
  },
  {
   "cell_type": "code",
   "execution_count": 150,
   "metadata": {},
   "outputs": [
    {
     "data": {
      "text/plain": [
       "{'age': 0.003699223396114675,\n",
       " 'sex': -0.9042409779785583,\n",
       " 'cp': 0.6747282348693419,\n",
       " 'trestbps': -0.011613398123390507,\n",
       " 'chol': -0.0017036431858934173,\n",
       " 'fbs': 0.0478768694057663,\n",
       " 'restecg': 0.33490207838133623,\n",
       " 'thalach': 0.024729380915946855,\n",
       " 'exang': -0.6312041363430085,\n",
       " 'oldpeak': -0.5759099636629296,\n",
       " 'slope': 0.47095166489539353,\n",
       " 'ca': -0.6516534354909507,\n",
       " 'thal': -0.6998421698316164}"
      ]
     },
     "execution_count": 150,
     "metadata": {},
     "output_type": "execute_result"
    }
   ],
   "source": [
    "feature_dict = dict(zip(df.columns, list(log_reg_best.coef_[0])))\n",
    "feature_dict"
   ]
  },
  {
   "cell_type": "code",
   "execution_count": 158,
   "metadata": {},
   "outputs": [
    {
     "data": {
      "image/png": "[encoded data removed]",
      "text/plain": [
       "<Figure size 720x432 with 1 Axes>"
      ]
     },
     "metadata": {
      "needs_background": "light"
     },
     "output_type": "display_data"
    }
   ],
   "source": [
    "feature_df = pd.DataFrame(feature_dict, index = [0])\n",
    "feature_df.T.plot(kind='bar',title = 'Feature Importance', legend=False, figsize= (10 ,6))\n",
    "plt.xticks(rotation= True);"
   ]
  },
  {
   "cell_type": "markdown",
   "metadata": {},
   "source": [
    "## 6. Experimentation\n",
    "\n",
    "If we haven't hit the evaluation metric yet, what can we do?\n",
    "\n",
    "* Could we collect more data?\n",
    "* Could try a better model? CatBoost or XGBoost?\n",
    "* Could we improve the current model?\n"
   ]
  },
  {
   "cell_type": "code",
   "execution_count": null,
   "metadata": {},
   "outputs": [],
   "source": []
  }
 ],
 "metadata": {
  "kernelspec": {
   "display_name": "Python 3",
   "language": "python",
   "name": "python3"
  },
  "language_info": {
   "codemirror_mode": {
    "name": "ipython",
    "version": 3
   },
   "file_extension": ".py",
   "mimetype": "text/x-python",
   "name": "python",
   "nbconvert_exporter": "python",
   "pygments_lexer": "ipython3",
   "version": "3.8.5"
  }
 },
 "nbformat": 4,
 "nbformat_minor": 4
}
